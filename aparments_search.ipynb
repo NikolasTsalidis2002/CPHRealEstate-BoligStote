{
 "cells": [
  {
   "cell_type": "code",
   "execution_count": 74,
   "metadata": {},
   "outputs": [],
   "source": [
    "import requests\n",
    "from bs4 import BeautifulSoup\n",
    "import pandas as pd\n",
    "import numpy as np\n",
    "from tqdm import tqdm\n",
    "from time import sleep\n",
    "import matplotlib.pyplot as plt\n",
    "import folium\n",
    "import warnings\n",
    "\n",
    "# Ignore all warnings\n",
    "warnings.filterwarnings(\"ignore\")"
   ]
  },
  {
   "attachments": {},
   "cell_type": "markdown",
   "metadata": {},
   "source": [
    "Create some function that are neccessary for later on."
   ]
  },
  {
   "cell_type": "code",
   "execution_count": 24,
   "metadata": {},
   "outputs": [],
   "source": [
    "from math import radians, sin, cos, sqrt, atan2\n",
    "# function that finds he distance between two coordinates\n",
    "def haversine_distance(coordinates):\n",
    "    # Convert latitude and longitude from degrees to radians\n",
    "    lat1, lon1, lat2, lon2 = coordinates\n",
    "    lat1_rad = radians(lat1)\n",
    "    lon1_rad = radians(lon1)\n",
    "    lat2_rad = radians(lat2)\n",
    "    lon2_rad = radians(lon2)\n",
    "\n",
    "    # Haversine formula\n",
    "    dlon = lon2_rad - lon1_rad\n",
    "    dlat = lat2_rad - lat1_rad\n",
    "    a = sin(dlat/2)**2 + cos(lat1_rad) * cos(lat2_rad) * sin(dlon/2)**2\n",
    "    c = 2 * atan2(sqrt(a), sqrt(1-a))\n",
    "    radius = 6371  # Earth's radius in kilometers\n",
    "    distance = radius * c\n",
    "\n",
    "    return distance\n",
    "\n",
    "\n",
    "from geopy.geocoders import Nominatim\n",
    "# function that finds the coordinates of an adress\n",
    "loc = Nominatim(user_agent=\"GetLoc\")"
   ]
  },
  {
   "cell_type": "code",
   "execution_count": 113,
   "metadata": {},
   "outputs": [],
   "source": [
    "def apartments_details(url):    \n",
    "    # get access to the site\n",
    "    response = requests.get(url)\n",
    "\n",
    "    # Create a BeautifulSoup object and specify the parser\n",
    "    soup = BeautifulSoup(response.text, \"html.parser\")\n",
    "    block = soup.find_all('div',class_=\"css-ho2tek\")\n",
    "\n",
    "\n",
    "    # scrape boligportal site and get all the info of the apartments there\n",
    "    details_set,location_set,comments_set,time_posted_set,price_set = [],[],[],[],[]\n",
    "    for i in block:\n",
    "        blockII = i.find_all('div')\n",
    "        if len(blockII) != 1:\n",
    "            for j in blockII:\n",
    "                blockIII = j.find_all('div')\n",
    "                for z in blockIII:\n",
    "                    blockIV = z.find_all('div',class_=\"css-1jf5j4m\")\n",
    "                    for v in blockIV:\n",
    "\n",
    "                        details = v.find_all('div',class_='css-js2eza')\n",
    "                        location = v.find_all('div',class_='css-1w4wg57')\n",
    "                        comments = v.find_all('div',class_='css-11zpaaj')\n",
    "                        price = v.find_all('div',class_='css-btz01o')\n",
    "                        for l in details:\n",
    "                            l = l.text.split()\n",
    "                            num_rooms = l[0]\n",
    "                            type_ = l[3]\n",
    "                            size = l[5]\n",
    "                            try:\n",
    "                                details_set.append((int(num_rooms),type_,size))\n",
    "                            except:          \n",
    "                                # sometimes there are rooms and half (2.5). Pass it as a float instead of int                      \n",
    "                                num_rooms = num_rooms.replace(',','.')\n",
    "                                details_set.append((float(num_rooms),type_,size))\n",
    "                        for l in location:\n",
    "                            location_set.append(l.text)                                \n",
    "                        for l in comments:\n",
    "                            comments_set.append(l.text)                        \n",
    "                        for l in price:                    \n",
    "                            # print(l.text)        \n",
    "                            if 'Yesterday' in l.text:\n",
    "                                l = l.text.split('Yesterday')     \n",
    "                                time_posted_set.append('Yesterday')   \n",
    "                            else:      \n",
    "                                l = l.text.split('ago')                     \n",
    "                                time_posted_set.append(l[0].strip())   \n",
    "                            # print(l)                     \n",
    "                            # print(l[1]) \n",
    "                            #    \n",
    "                            try:                    \n",
    "                                price_set.append(float(l[1].split()[0]))                                           \n",
    "                            except:\n",
    "                                # the dates are no longer in terms of hour, minutes,yesterday or days but in months. Split by months\n",
    "                                l = l[0]\n",
    "                                months = ['jan','feb','mar','apr','may','jun','jul','aug','sep','oct','nov','dec']\n",
    "                                for i in months:\n",
    "                                    l = l.lower()\n",
    "                                    if i in l:\n",
    "                                        pr = l.split(i)\n",
    "                                        price_set.append(float(pr[1].split()[0]))\n",
    "\n",
    "    # put all the lists into one big list\n",
    "    details = list(set(zip(details_set,location_set,comments_set,time_posted_set,price_set)))\n",
    "\n",
    "    # create a dictionary with all the elements in the list a bove with its own key\n",
    "    dic = {'rooms':[],'type':[],'size':[],'location':[],'comments':[],'time_posted':[],'rent':[]}\n",
    "    dic_num = dict(enumerate(dic.keys()))\n",
    "\n",
    "\n",
    "    # add all the information to a dictionary\n",
    "    for z in range(len(details)):\n",
    "        count = 0\n",
    "        for i in details[z]:\n",
    "            if type(i) == tuple:\n",
    "                for j in i:\n",
    "                    dic[dic_num[count]].append(j)\n",
    "                    count += 1\n",
    "            else:\n",
    "                dic[dic_num[count]].append(i)\n",
    "                count += 1\n",
    "        # aparments_details.append()\n",
    "\n",
    "\n",
    "    for z in range(len(details)):\n",
    "        count = 0\n",
    "        for i in details[z]:\n",
    "            if type(i) == tuple:\n",
    "                for j in i:\n",
    "                    dic[dic_num[count]].append(j)\n",
    "                    count += 1\n",
    "            else:\n",
    "                dic[dic_num[count]].append(i)\n",
    "                count += 1\n",
    "\n",
    "\n",
    "    # mkaing a df with all the gained info\n",
    "    df = pd.DataFrame(dic)\n",
    "\n",
    "    # add acolumn ratio where we see how much each person would have to pay\n",
    "    arr = np.array(list(df.rooms))\n",
    "    arr[np.where(arr == 1)] = 2\n",
    "    np.array([i-1 for i in arr])\n",
    "    df['ratio (1000 DKK)/person'] = np.round(np.array(list(df.rent))/np.array([i-1 for i in arr]),2)\n",
    "\n",
    "    # add a column for at which site the said apartment was found\n",
    "    if len(url.split('=')) >= 2:\n",
    "        df['site_num'] = [url.split('=')[-1]]*df.shape[0]    \n",
    "    else:\n",
    "        df['site_num'] = ['main_site']*df.shape[0]    \n",
    "\n",
    "    return df\n",
    "df = apartments_details(url = \"https://www.boligportal.dk/en/lejeboliger/k%C3%B8benhavn/\")"
   ]
  },
  {
   "cell_type": "code",
   "execution_count": 114,
   "metadata": {},
   "outputs": [
    {
     "name": "stdout",
     "output_type": "stream",
     "text": [
      "### Start ###\n",
      "Going through BoligPortal websites\n"
     ]
    },
    {
     "name": "stderr",
     "output_type": "stream",
     "text": [
      "100%|██████████| 30/30 [00:19<00:00,  1.54it/s]"
     ]
    },
    {
     "name": "stdout",
     "output_type": "stream",
     "text": [
      "### Done ###\n"
     ]
    },
    {
     "name": "stderr",
     "output_type": "stream",
     "text": [
      "\n"
     ]
    }
   ],
   "source": [
    "all_apartments = []\n",
    "print('### Start ###')\n",
    "print('Going through BoligPortal websites')\n",
    "for i in tqdm(range(30)):\n",
    "    sleep(0.00000000000000000000000000001)\n",
    "    if i == 0:\n",
    "        url = \"https://www.boligportal.dk/en/rental-properties/k%C3%B8benhavn/\"\n",
    "    else: \n",
    "        url = \"https://www.boligportal.dk/en/rental-properties/k%C3%B8benhavn/?offset={}\".format(18*i)\n",
    "    all_apartments.append(apartments_details(url))\n",
    "df = pd.concat(all_apartments,axis=0)\n",
    "df = df.drop_duplicates().reset_index(drop=True)\n",
    "print('### Done ###')"
   ]
  },
  {
   "cell_type": "code",
   "execution_count": 115,
   "metadata": {},
   "outputs": [
    {
     "data": {
      "text/plain": [
       "(505, 9)"
      ]
     },
     "execution_count": 115,
     "metadata": {},
     "output_type": "execute_result"
    }
   ],
   "source": [
    "df.shape"
   ]
  },
  {
   "cell_type": "code",
   "execution_count": 116,
   "metadata": {},
   "outputs": [
    {
     "name": "stdout",
     "output_type": "stream",
     "text": [
      "Number of coordinates: 242\n"
     ]
    }
   ],
   "source": [
    "# here is where we are going to save the coordinates so that we do onthave to run the cell below all the time\n",
    "import pickle\n",
    "\n",
    "\n",
    "# Open/load the pickle file back into Python\n",
    "with open('/Users/nikolastsalidis/Desktop/GitHub/coordinated.pickle', 'rb') as file:\n",
    "# with open('coordinated.pickle', 'rb') as file:\n",
    "    loaded_coordinates = pickle.load(file)\n",
    "  \n",
    "print('Number of coordinates: {}'.format(len(loaded_coordinates)))"
   ]
  },
  {
   "cell_type": "code",
   "execution_count": 117,
   "metadata": {},
   "outputs": [
    {
     "name": "stdout",
     "output_type": "stream",
     "text": [
      "### Start ###\n",
      "Getting the coordinates of addresses\n",
      "242\n"
     ]
    },
    {
     "name": "stderr",
     "output_type": "stream",
     "text": [
      "  0%|          | 0/278 [00:00<?, ?it/s]"
     ]
    },
    {
     "name": "stdout",
     "output_type": "stream",
     "text": [
      "Charlottenlund, Schioldannsvej Found in location: (array([], dtype=int64),)\n"
     ]
    },
    {
     "name": "stderr",
     "output_type": "stream",
     "text": [
      "  1%|▏         | 4/278 [00:01<02:04,  2.21it/s]"
     ]
    },
    {
     "name": "stdout",
     "output_type": "stream",
     "text": [
      "København S, Oldenborggade Found in location: (array([], dtype=int64),)\n"
     ]
    },
    {
     "name": "stderr",
     "output_type": "stream",
     "text": [
      "  6%|▌         | 16/278 [00:02<00:34,  7.56it/s]"
     ]
    },
    {
     "name": "stdout",
     "output_type": "stream",
     "text": [
      "København Ø, Amerika Plads Found in location: (array([], dtype=int64),)\n"
     ]
    },
    {
     "name": "stderr",
     "output_type": "stream",
     "text": [
      "  6%|▋         | 18/278 [00:02<00:37,  6.94it/s]"
     ]
    },
    {
     "name": "stdout",
     "output_type": "stream",
     "text": [
      "Brønshøj, Tølløsevej Found in location: (array([], dtype=int64),)\n"
     ]
    },
    {
     "name": "stderr",
     "output_type": "stream",
     "text": [
      "  8%|▊         | 22/278 [00:03<00:35,  7.20it/s]"
     ]
    },
    {
     "name": "stdout",
     "output_type": "stream",
     "text": [
      "Hedehusene, Frøstjernestræde Found in location: (array([], dtype=int64),)\n"
     ]
    },
    {
     "name": "stderr",
     "output_type": "stream",
     "text": [
      " 12%|█▏        | 34/278 [00:03<00:19, 12.71it/s]"
     ]
    },
    {
     "name": "stdout",
     "output_type": "stream",
     "text": [
      "Vallensbæk Strand, Rosenfeldtvej Found in location: (array([], dtype=int64),)\n"
     ]
    },
    {
     "name": "stderr",
     "output_type": "stream",
     "text": [
      " 13%|█▎        | 36/278 [00:04<00:24, 10.00it/s]"
     ]
    },
    {
     "name": "stdout",
     "output_type": "stream",
     "text": [
      "København Ø, Strandpromenaden Found in location: (array([], dtype=int64),)\n"
     ]
    },
    {
     "name": "stderr",
     "output_type": "stream",
     "text": [
      " 15%|█▌        | 42/278 [00:04<00:23,  9.92it/s]"
     ]
    },
    {
     "name": "stdout",
     "output_type": "stream",
     "text": [
      "Brønshøj, Gadelandet Found in location: (array([], dtype=int64),)\n"
     ]
    },
    {
     "name": "stderr",
     "output_type": "stream",
     "text": [
      " 18%|█▊        | 50/278 [00:05<00:18, 12.30it/s]"
     ]
    },
    {
     "name": "stdout",
     "output_type": "stream",
     "text": [
      "Kongens Lyngby, Skovbrynet Found in location: (array([], dtype=int64),)\n"
     ]
    },
    {
     "name": "stderr",
     "output_type": "stream",
     "text": [
      " 19%|█▊        | 52/278 [00:05<00:23,  9.73it/s]"
     ]
    },
    {
     "name": "stdout",
     "output_type": "stream",
     "text": [
      "Rødovre, Aage Knudsens Strøg Found in location: (array([], dtype=int64),)\n"
     ]
    },
    {
     "name": "stderr",
     "output_type": "stream",
     "text": [
      " 24%|██▍       | 68/278 [00:06<00:12, 16.28it/s]"
     ]
    },
    {
     "name": "stdout",
     "output_type": "stream",
     "text": [
      "Taastrup, Egevangshusene Found in location: (array([], dtype=int64),)\n"
     ]
    },
    {
     "name": "stderr",
     "output_type": "stream",
     "text": [
      " 25%|██▌       | 70/278 [00:06<00:16, 12.53it/s]"
     ]
    },
    {
     "name": "stdout",
     "output_type": "stream",
     "text": [
      "København NV, Bygmestervej Found in location: (array([], dtype=int64),)\n"
     ]
    },
    {
     "name": "stderr",
     "output_type": "stream",
     "text": [
      " 35%|███▌      | 98/278 [00:07<00:07, 25.26it/s]"
     ]
    },
    {
     "name": "stdout",
     "output_type": "stream",
     "text": [
      "København Ø, Lyngbyvej Found in location: (array([], dtype=int64),)\n"
     ]
    },
    {
     "name": "stderr",
     "output_type": "stream",
     "text": [
      " 37%|███▋      | 102/278 [00:07<00:08, 20.02it/s]"
     ]
    },
    {
     "name": "stdout",
     "output_type": "stream",
     "text": [
      "København SV, Linus Paulings Vej Found in location: (array([], dtype=int64),)\n"
     ]
    },
    {
     "name": "stderr",
     "output_type": "stream",
     "text": [
      " 38%|███▊      | 105/278 [00:08<00:10, 16.75it/s]"
     ]
    },
    {
     "name": "stdout",
     "output_type": "stream",
     "text": [
      "Brøndby, Vestre Gade Found in location: (array([], dtype=int64),)\n"
     ]
    },
    {
     "name": "stderr",
     "output_type": "stream",
     "text": [
      " 44%|████▍     | 123/278 [00:08<00:06, 22.55it/s]"
     ]
    },
    {
     "name": "stdout",
     "output_type": "stream",
     "text": [
      "Ballerup, Fjerkløvervej Found in location: (array([], dtype=int64),)\n"
     ]
    },
    {
     "name": "stderr",
     "output_type": "stream",
     "text": [
      " 46%|████▌     | 127/278 [00:09<00:08, 17.98it/s]"
     ]
    },
    {
     "name": "stdout",
     "output_type": "stream",
     "text": [
      "København SV, Teglholmens Østkaj Found in location: (array([], dtype=int64),)\n"
     ]
    },
    {
     "name": "stderr",
     "output_type": "stream",
     "text": [
      " 48%|████▊     | 133/278 [00:09<00:09, 16.05it/s]"
     ]
    },
    {
     "name": "stdout",
     "output_type": "stream",
     "text": [
      "Frederiksberg, Duevej Found in location: (array([], dtype=int64),)\n"
     ]
    },
    {
     "name": "stderr",
     "output_type": "stream",
     "text": [
      " 52%|█████▏    | 144/278 [00:10<00:07, 17.71it/s]"
     ]
    },
    {
     "name": "stdout",
     "output_type": "stream",
     "text": [
      "København S, Amagerfælledvej Found in location: (array([], dtype=int64),)\n"
     ]
    },
    {
     "name": "stderr",
     "output_type": "stream",
     "text": [
      " 53%|█████▎    | 147/278 [00:11<00:09, 13.31it/s]"
     ]
    },
    {
     "name": "stdout",
     "output_type": "stream",
     "text": [
      "København SV, Kenny Drews Vej Found in location: (array([], dtype=int64),)\n"
     ]
    },
    {
     "name": "stderr",
     "output_type": "stream",
     "text": [
      " 56%|█████▌    | 156/278 [00:11<00:07, 16.12it/s]"
     ]
    },
    {
     "name": "stdout",
     "output_type": "stream",
     "text": [
      "Taastrup, Trelleborggade Found in location: (array([], dtype=int64),)\n"
     ]
    },
    {
     "name": "stderr",
     "output_type": "stream",
     "text": [
      " 57%|█████▋    | 159/278 [00:11<00:09, 13.16it/s]"
     ]
    },
    {
     "name": "stdout",
     "output_type": "stream",
     "text": [
      "Virum, Geelsdalen Found in location: (array([], dtype=int64),)\n"
     ]
    },
    {
     "name": "stderr",
     "output_type": "stream",
     "text": [
      " 58%|█████▊    | 162/278 [00:12<00:10, 10.86it/s]"
     ]
    },
    {
     "name": "stdout",
     "output_type": "stream",
     "text": [
      "Søborg, Valdemars Alle Found in location: (array([], dtype=int64),)\n"
     ]
    },
    {
     "name": "stderr",
     "output_type": "stream",
     "text": [
      " 60%|██████    | 167/278 [00:12<00:10, 10.52it/s]"
     ]
    },
    {
     "name": "stdout",
     "output_type": "stream",
     "text": [
      "Frederiksberg, Preben Kaas' Vænge Found in location: (array([], dtype=int64),)\n"
     ]
    },
    {
     "name": "stderr",
     "output_type": "stream",
     "text": [
      " 62%|██████▏   | 171/278 [00:13<00:11,  9.69it/s]"
     ]
    },
    {
     "name": "stdout",
     "output_type": "stream",
     "text": [
      "København NV, Frederiksborgvej Found in location: (array([], dtype=int64),)\n"
     ]
    },
    {
     "name": "stderr",
     "output_type": "stream",
     "text": [
      " 63%|██████▎   | 175/278 [00:13<00:11,  8.60it/s]"
     ]
    },
    {
     "name": "stdout",
     "output_type": "stream",
     "text": [
      "Valby, Gammel Køge Landevej Found in location: (array([], dtype=int64),)\n"
     ]
    },
    {
     "name": "stderr",
     "output_type": "stream",
     "text": [
      " 65%|██████▌   | 181/278 [00:14<00:09, 10.09it/s]"
     ]
    },
    {
     "name": "stdout",
     "output_type": "stream",
     "text": [
      "København N, Lundtoftegade Found in location: (array([], dtype=int64),)\n"
     ]
    },
    {
     "name": "stderr",
     "output_type": "stream",
     "text": [
      " 66%|██████▌   | 183/278 [00:14<00:12,  7.72it/s]"
     ]
    },
    {
     "name": "stdout",
     "output_type": "stream",
     "text": [
      "Søborg, Kildebakkegårds Alle Found in location: (array([], dtype=int64),)\n"
     ]
    },
    {
     "name": "stderr",
     "output_type": "stream",
     "text": [
      " 67%|██████▋   | 185/278 [00:15<00:13,  7.02it/s]"
     ]
    },
    {
     "name": "stdout",
     "output_type": "stream",
     "text": [
      "Ballerup, Sømose Hegn Found in location: (array([], dtype=int64),)\n"
     ]
    },
    {
     "name": "stderr",
     "output_type": "stream",
     "text": [
      " 80%|████████  | 223/278 [00:15<00:01, 27.64it/s]"
     ]
    },
    {
     "name": "stdout",
     "output_type": "stream",
     "text": [
      "Virum, Rytsebækvej Found in location: (array([], dtype=int64),)\n"
     ]
    },
    {
     "name": "stderr",
     "output_type": "stream",
     "text": [
      " 82%|████████▏ | 228/278 [00:16<00:02, 23.62it/s]"
     ]
    },
    {
     "name": "stdout",
     "output_type": "stream",
     "text": [
      "Vanløse, Åbakkevej Found in location: (array([], dtype=int64),)\n"
     ]
    },
    {
     "name": "stderr",
     "output_type": "stream",
     "text": [
      " 83%|████████▎ | 231/278 [00:16<00:02, 18.00it/s]"
     ]
    },
    {
     "name": "stdout",
     "output_type": "stream",
     "text": [
      "Rødovre, Roskildevej Found in location: (array([], dtype=int64),)\n"
     ]
    },
    {
     "name": "stderr",
     "output_type": "stream",
     "text": [
      " 84%|████████▍ | 233/278 [00:17<00:03, 13.62it/s]"
     ]
    },
    {
     "name": "stdout",
     "output_type": "stream",
     "text": [
      "København K, Lille Strandstræde Found in location: (array([], dtype=int64),)\n"
     ]
    },
    {
     "name": "stderr",
     "output_type": "stream",
     "text": [
      " 85%|████████▍ | 235/278 [00:17<00:04, 10.62it/s]"
     ]
    },
    {
     "name": "stdout",
     "output_type": "stream",
     "text": [
      "Brøndby Strand, Bovang Found in location: (array([], dtype=int64),)\n"
     ]
    },
    {
     "name": "stderr",
     "output_type": "stream",
     "text": [
      " 85%|████████▌ | 237/278 [00:18<00:04,  8.57it/s]"
     ]
    },
    {
     "name": "stdout",
     "output_type": "stream",
     "text": [
      "København S, Amagerbrogade Found in location: (array([], dtype=int64),)\n"
     ]
    },
    {
     "name": "stderr",
     "output_type": "stream",
     "text": [
      " 86%|████████▌ | 239/278 [00:18<00:05,  6.74it/s]"
     ]
    },
    {
     "name": "stdout",
     "output_type": "stream",
     "text": [
      "Hellerup, Callisensvej Found in location: (array([], dtype=int64),)\n"
     ]
    },
    {
     "name": "stderr",
     "output_type": "stream",
     "text": [
      " 87%|████████▋ | 241/278 [00:19<00:05,  6.29it/s]"
     ]
    },
    {
     "name": "stdout",
     "output_type": "stream",
     "text": [
      "Rødovre, Brandholms Alle Found in location: (array([], dtype=int64),)\n"
     ]
    },
    {
     "name": "stderr",
     "output_type": "stream",
     "text": [
      " 91%|█████████▏| 254/278 [00:19<00:01, 12.12it/s]"
     ]
    },
    {
     "name": "stdout",
     "output_type": "stream",
     "text": [
      "Rødovre, Møllevangen Found in location: (array([], dtype=int64),)\n"
     ]
    },
    {
     "name": "stderr",
     "output_type": "stream",
     "text": [
      " 92%|█████████▏| 256/278 [00:20<00:02,  9.63it/s]"
     ]
    },
    {
     "name": "stdout",
     "output_type": "stream",
     "text": [
      "København Ø, Herninggade Found in location: (array([], dtype=int64),)\n"
     ]
    },
    {
     "name": "stderr",
     "output_type": "stream",
     "text": [
      " 93%|█████████▎| 259/278 [00:20<00:02,  8.49it/s]"
     ]
    },
    {
     "name": "stdout",
     "output_type": "stream",
     "text": [
      "Frederiksberg, Junggrensvej Found in location: (array([], dtype=int64),)\n"
     ]
    },
    {
     "name": "stderr",
     "output_type": "stream",
     "text": [
      " 96%|█████████▌| 267/278 [00:21<00:00, 11.32it/s]"
     ]
    },
    {
     "name": "stdout",
     "output_type": "stream",
     "text": [
      "København Ø, Vejlegade Found in location: (array([], dtype=int64),)\n"
     ]
    },
    {
     "name": "stderr",
     "output_type": "stream",
     "text": [
      " 99%|█████████▊| 274/278 [00:21<00:00, 11.35it/s]"
     ]
    },
    {
     "name": "stdout",
     "output_type": "stream",
     "text": [
      "Taastrup, Skjeberg Allé Found in location: (array([], dtype=int64),)\n"
     ]
    },
    {
     "name": "stderr",
     "output_type": "stream",
     "text": [
      "100%|██████████| 278/278 [00:22<00:00, 12.43it/s]\n"
     ]
    },
    {
     "name": "stdout",
     "output_type": "stream",
     "text": [
      "284\n",
      "### Done ###\n"
     ]
    }
   ],
   "source": [
    "# add a column for the coordinates of the different places\n",
    "# iterate thorugh every location and gets its coordinate. The ones where there is an error is because the library cannot identify said address\n",
    "def setting_coordinates(df,coordinates:dict):\n",
    "    print(len(coordinates))\n",
    "    locations = set(list(df.location))\n",
    "\n",
    "    for i in tqdm(locations):\n",
    "        sleep(0.00000000000000000000000000001)\n",
    "        if i not in list(coordinates.keys()):\n",
    "            print(i,'Found in location:',np.where(np.array(list(coordinates.keys())) == i))\n",
    "            try:\n",
    "                coordinates[i] = loc.geocode(i).point[:2]\n",
    "            except: \n",
    "                coordinates[i] = \"Error\"\n",
    "    getLoc = loc.geocode(\"IT University of Copenhaguen\")\n",
    "\n",
    "    # do this for the apartments and IT university\n",
    "    df['Coordinates'] = [coordinates[i] for i in df.location]\n",
    "    df['ITU_coordinates'] = [getLoc.point[:2]]*df.shape[0]\n",
    "\n",
    "    # calculate the distance between each house and ITU\n",
    "    distance = lambda i:round(haversine_distance(df.iloc[i].Coordinates+df.iloc[i].ITU_coordinates),2)\n",
    "    distances = []\n",
    "\n",
    "    for i in range(df.shape[0]):    \n",
    "        try:\n",
    "            distances.append(float(distance(i)))\n",
    "        except:\n",
    "            distances.append('Error')\n",
    "    df['Distance (km)'] = distances\n",
    "\n",
    "    # order the df based on the ratio\n",
    "    df = df.sort_values('ratio (1000 DKK)/person')    \n",
    "    \n",
    "    # see if id is one of the columns and make sure that we do not repeat this column\n",
    "    if 'id' not in list(df.columns):\n",
    "        df = df.reset_index()\n",
    "        df = df.rename(columns={'index': 'id'})\n",
    "    else:\n",
    "        df = df.reset_index(drop=True)\n",
    "\n",
    "    \n",
    "    print(len(coordinates))\n",
    "    return df,coordinates\n",
    "\n",
    "print('### Start ###')\n",
    "print('Getting the coordinates of addresses')\n",
    "df,coordinates = setting_coordinates(df,coordinates=loaded_coordinates)\n",
    "print('### Done ###')"
   ]
  },
  {
   "cell_type": "code",
   "execution_count": 118,
   "metadata": {},
   "outputs": [
    {
     "name": "stdout",
     "output_type": "stream",
     "text": [
      "### Saving new coordinates ###\n",
      "Done\n"
     ]
    }
   ],
   "source": [
    "# open the pcikled file again and compare if this pickle has less info than the just made dictionary coordinates\n",
    "with open('/Users/nikolastsalidis/Desktop/GitHub/coordinated.pickle', 'rb') as file:\n",
    "# with open('coordinated.pickle', 'rb') as file:\n",
    "    loaded_coordinates = pickle.load(file)\n",
    "\n",
    "# Save the dictionary as a pickle file if the pickled dict is smaller than the just made dict\n",
    "if len(loaded_coordinates) < len(coordinates):\n",
    "    print('### Saving new coordinates ###')\n",
    "    with open('/Users/nikolastsalidis/Desktop/GitHub/coordinated.pickle', 'wb') as file:\n",
    "    # with open('coordinated.pickle', 'wb') as file:\n",
    "        pickle.dump(coordinates, file)\n",
    "    print('Done')"
   ]
  },
  {
   "attachments": {},
   "cell_type": "markdown",
   "metadata": {},
   "source": [
    "Take a look at what the best options are. Ideally, something like paying less than 5.5k DKK and is ess than 5 km away from ITU"
   ]
  },
  {
   "cell_type": "code",
   "execution_count": 119,
   "metadata": {},
   "outputs": [
    {
     "name": "stdout",
     "output_type": "stream",
     "text": [
      "Ratio of best options: 5.15%\n"
     ]
    },
    {
     "data": {
      "text/html": [
       "<div>\n",
       "<style scoped>\n",
       "    .dataframe tbody tr th:only-of-type {\n",
       "        vertical-align: middle;\n",
       "    }\n",
       "\n",
       "    .dataframe tbody tr th {\n",
       "        vertical-align: top;\n",
       "    }\n",
       "\n",
       "    .dataframe thead th {\n",
       "        text-align: right;\n",
       "    }\n",
       "</style>\n",
       "<table border=\"1\" class=\"dataframe\">\n",
       "  <thead>\n",
       "    <tr style=\"text-align: right;\">\n",
       "      <th></th>\n",
       "      <th>id</th>\n",
       "      <th>rooms</th>\n",
       "      <th>type</th>\n",
       "      <th>size</th>\n",
       "      <th>location</th>\n",
       "      <th>comments</th>\n",
       "      <th>time_posted</th>\n",
       "      <th>rent</th>\n",
       "      <th>ratio (1000 DKK)/person</th>\n",
       "      <th>site_num</th>\n",
       "      <th>Coordinates</th>\n",
       "      <th>ITU_coordinates</th>\n",
       "      <th>Distance (km)</th>\n",
       "    </tr>\n",
       "  </thead>\n",
       "  <tbody>\n",
       "    <tr>\n",
       "      <th>0</th>\n",
       "      <td>415</td>\n",
       "      <td>4.0</td>\n",
       "      <td>Apartment</td>\n",
       "      <td>89</td>\n",
       "      <td>København N, Thorsgade</td>\n",
       "      <td>Lejlighed til leje i juli måned / Apartment fo...</td>\n",
       "      <td>5 days</td>\n",
       "      <td>9.000</td>\n",
       "      <td>3.00</td>\n",
       "      <td>432</td>\n",
       "      <td>(55.6975182, 12.5492806)</td>\n",
       "      <td>(55.65965525, 12.591076889344563)</td>\n",
       "      <td>4.96</td>\n",
       "    </tr>\n",
       "    <tr>\n",
       "      <th>1</th>\n",
       "      <td>345</td>\n",
       "      <td>5.0</td>\n",
       "      <td>Apartment</td>\n",
       "      <td>105</td>\n",
       "      <td>København S, Richard Mortensens Vej</td>\n",
       "      <td>Rummelig 5-værelses i Ørestad!</td>\n",
       "      <td>4 days</td>\n",
       "      <td>15.750</td>\n",
       "      <td>3.94</td>\n",
       "      <td>360</td>\n",
       "      <td>(55.623461, 12.571163)</td>\n",
       "      <td>(55.65965525, 12.591076889344563)</td>\n",
       "      <td>4.21</td>\n",
       "    </tr>\n",
       "    <tr>\n",
       "      <th>2</th>\n",
       "      <td>430</td>\n",
       "      <td>5.0</td>\n",
       "      <td>Apartment</td>\n",
       "      <td>121</td>\n",
       "      <td>Frederiksberg C, H.C. Ørsteds Vej</td>\n",
       "      <td>5 vær -121 kvm - 2 plan - Frederiksberg C</td>\n",
       "      <td>5 days</td>\n",
       "      <td>15.812</td>\n",
       "      <td>3.95</td>\n",
       "      <td>450</td>\n",
       "      <td>(55.679559, 12.547653)</td>\n",
       "      <td>(55.65965525, 12.591076889344563)</td>\n",
       "      <td>3.51</td>\n",
       "    </tr>\n",
       "    <tr>\n",
       "      <th>3</th>\n",
       "      <td>208</td>\n",
       "      <td>1.0</td>\n",
       "      <td>Room</td>\n",
       "      <td>20</td>\n",
       "      <td>København S, Dublinvej</td>\n",
       "      <td>Pendler værelse</td>\n",
       "      <td>2 days</td>\n",
       "      <td>4.000</td>\n",
       "      <td>4.00</td>\n",
       "      <td>216</td>\n",
       "      <td>(55.6408113, 12.6041656)</td>\n",
       "      <td>(55.65965525, 12.591076889344563)</td>\n",
       "      <td>2.25</td>\n",
       "    </tr>\n",
       "    <tr>\n",
       "      <th>4</th>\n",
       "      <td>201</td>\n",
       "      <td>1.0</td>\n",
       "      <td>Room</td>\n",
       "      <td>8</td>\n",
       "      <td>København V, Fadet</td>\n",
       "      <td>Carlsberg byen 27 etage , værelse B</td>\n",
       "      <td>2 days</td>\n",
       "      <td>4.000</td>\n",
       "      <td>4.00</td>\n",
       "      <td>198</td>\n",
       "      <td>(55.665218, 12.5326215)</td>\n",
       "      <td>(55.65965525, 12.591076889344563)</td>\n",
       "      <td>3.72</td>\n",
       "    </tr>\n",
       "    <tr>\n",
       "      <th>5</th>\n",
       "      <td>182</td>\n",
       "      <td>4.0</td>\n",
       "      <td>Apartment</td>\n",
       "      <td>98</td>\n",
       "      <td>København S, Skånegade</td>\n",
       "      <td>3,5 vær på 98 kvm 2300  København S</td>\n",
       "      <td>2 days</td>\n",
       "      <td>12.600</td>\n",
       "      <td>4.20</td>\n",
       "      <td>180</td>\n",
       "      <td>(55.664127, 12.6017475)</td>\n",
       "      <td>(55.65965525, 12.591076889344563)</td>\n",
       "      <td>0.83</td>\n",
       "    </tr>\n",
       "    <tr>\n",
       "      <th>6</th>\n",
       "      <td>163</td>\n",
       "      <td>5.0</td>\n",
       "      <td>Apartment</td>\n",
       "      <td>125</td>\n",
       "      <td>København S, Else Alfelts Vej</td>\n",
       "      <td>Familievenlig bolig med eksklusiv vinterhave</td>\n",
       "      <td>2 days</td>\n",
       "      <td>17.000</td>\n",
       "      <td>4.25</td>\n",
       "      <td>162</td>\n",
       "      <td>(55.621947, 12.570971)</td>\n",
       "      <td>(55.65965525, 12.591076889344563)</td>\n",
       "      <td>4.38</td>\n",
       "    </tr>\n",
       "    <tr>\n",
       "      <th>7</th>\n",
       "      <td>120</td>\n",
       "      <td>4.0</td>\n",
       "      <td>Apartment</td>\n",
       "      <td>82</td>\n",
       "      <td>København S, Else Alfelts Vej</td>\n",
       "      <td>4 værelses lejlighed på Else Alfelts Vej i Køb...</td>\n",
       "      <td>2 days</td>\n",
       "      <td>13.300</td>\n",
       "      <td>4.43</td>\n",
       "      <td>108</td>\n",
       "      <td>(55.621947, 12.570971)</td>\n",
       "      <td>(55.65965525, 12.591076889344563)</td>\n",
       "      <td>4.38</td>\n",
       "    </tr>\n",
       "    <tr>\n",
       "      <th>8</th>\n",
       "      <td>196</td>\n",
       "      <td>5.0</td>\n",
       "      <td>Apartment</td>\n",
       "      <td>140</td>\n",
       "      <td>København S, Prags Boulevard</td>\n",
       "      <td>5 vær flot nyistandsat lejlighed på 140 kvm fø...</td>\n",
       "      <td>2 days</td>\n",
       "      <td>17.950</td>\n",
       "      <td>4.49</td>\n",
       "      <td>198</td>\n",
       "      <td>(55.6696077, 12.6224605)</td>\n",
       "      <td>(55.65965525, 12.591076889344563)</td>\n",
       "      <td>2.26</td>\n",
       "    </tr>\n",
       "    <tr>\n",
       "      <th>9</th>\n",
       "      <td>468</td>\n",
       "      <td>5.0</td>\n",
       "      <td>Apartment</td>\n",
       "      <td>108</td>\n",
       "      <td>Frederiksberg, Nordre Fasanvej</td>\n",
       "      <td>Delevenlig lejlighed på Frederiksberg tæt på N...</td>\n",
       "      <td>26 May18.500 kr.</td>\n",
       "      <td>18.500</td>\n",
       "      <td>4.62</td>\n",
       "      <td>486</td>\n",
       "      <td>(55.6796542, 12.5215139)</td>\n",
       "      <td>(55.65965525, 12.591076889344563)</td>\n",
       "      <td>4.90</td>\n",
       "    </tr>\n",
       "    <tr>\n",
       "      <th>10</th>\n",
       "      <td>34</td>\n",
       "      <td>4.0</td>\n",
       "      <td>Apartment</td>\n",
       "      <td>100</td>\n",
       "      <td>København S, Øresundsvej</td>\n",
       "      <td>4 værelses lejlighed på Øresundsvej i Københav...</td>\n",
       "      <td>Yesterday</td>\n",
       "      <td>13.900</td>\n",
       "      <td>4.63</td>\n",
       "      <td>18</td>\n",
       "      <td>(55.661419, 12.626561)</td>\n",
       "      <td>(55.65965525, 12.591076889344563)</td>\n",
       "      <td>2.23</td>\n",
       "    </tr>\n",
       "    <tr>\n",
       "      <th>11</th>\n",
       "      <td>298</td>\n",
       "      <td>5.0</td>\n",
       "      <td>Apartment</td>\n",
       "      <td>137</td>\n",
       "      <td>København S, Amagerbrogade</td>\n",
       "      <td>5 værelses lejlighed på Amagerbrogade i Københ...</td>\n",
       "      <td>3 days</td>\n",
       "      <td>18.838</td>\n",
       "      <td>4.71</td>\n",
       "      <td>306</td>\n",
       "      <td>(55.6627236, 12.6022282)</td>\n",
       "      <td>(55.65965525, 12.591076889344563)</td>\n",
       "      <td>0.78</td>\n",
       "    </tr>\n",
       "    <tr>\n",
       "      <th>12</th>\n",
       "      <td>116</td>\n",
       "      <td>4.0</td>\n",
       "      <td>Apartment</td>\n",
       "      <td>83</td>\n",
       "      <td>København S, Else Alfelts Vej</td>\n",
       "      <td>Skønt 4 værelses lejlighed i HeerupHave</td>\n",
       "      <td>2 days</td>\n",
       "      <td>14.200</td>\n",
       "      <td>4.73</td>\n",
       "      <td>108</td>\n",
       "      <td>(55.621947, 12.570971)</td>\n",
       "      <td>(55.65965525, 12.591076889344563)</td>\n",
       "      <td>4.38</td>\n",
       "    </tr>\n",
       "    <tr>\n",
       "      <th>13</th>\n",
       "      <td>236</td>\n",
       "      <td>1.0</td>\n",
       "      <td>Room</td>\n",
       "      <td>20</td>\n",
       "      <td>København S, Grækenlandsvej</td>\n",
       "      <td>værelse</td>\n",
       "      <td>3 days</td>\n",
       "      <td>4.800</td>\n",
       "      <td>4.80</td>\n",
       "      <td>234</td>\n",
       "      <td>(55.6519519, 12.6153995)</td>\n",
       "      <td>(55.65965525, 12.591076889344563)</td>\n",
       "      <td>1.75</td>\n",
       "    </tr>\n",
       "    <tr>\n",
       "      <th>14</th>\n",
       "      <td>39</td>\n",
       "      <td>4.0</td>\n",
       "      <td>Apartment</td>\n",
       "      <td>105</td>\n",
       "      <td>Frederiksberg C, Hostrups Have</td>\n",
       "      <td>4 værelses lejlighed på Hostrups Have i Freder...</td>\n",
       "      <td>Yesterday</td>\n",
       "      <td>14.875</td>\n",
       "      <td>4.96</td>\n",
       "      <td>36</td>\n",
       "      <td>(55.6848713, 12.5401394)</td>\n",
       "      <td>(55.65965525, 12.591076889344563)</td>\n",
       "      <td>4.25</td>\n",
       "    </tr>\n",
       "    <tr>\n",
       "      <th>15</th>\n",
       "      <td>14</td>\n",
       "      <td>4.0</td>\n",
       "      <td>Apartment</td>\n",
       "      <td>96</td>\n",
       "      <td>Frederiksberg, Aksel Møllers Have</td>\n",
       "      <td>Unik og super moderne lejlighed med altan og p...</td>\n",
       "      <td>10 hours</td>\n",
       "      <td>15.000</td>\n",
       "      <td>5.00</td>\n",
       "      <td>main_site</td>\n",
       "      <td>(55.6860507, 12.5329471)</td>\n",
       "      <td>(55.65965525, 12.591076889344563)</td>\n",
       "      <td>4.68</td>\n",
       "    </tr>\n",
       "    <tr>\n",
       "      <th>16</th>\n",
       "      <td>503</td>\n",
       "      <td>1.0</td>\n",
       "      <td>Room</td>\n",
       "      <td>15</td>\n",
       "      <td>København V, Istedgade</td>\n",
       "      <td>a cozy room for rent!</td>\n",
       "      <td>26 May5.000 kr.</td>\n",
       "      <td>5.000</td>\n",
       "      <td>5.00</td>\n",
       "      <td>522</td>\n",
       "      <td>(55.668553, 12.5511936)</td>\n",
       "      <td>(55.65965525, 12.591076889344563)</td>\n",
       "      <td>2.69</td>\n",
       "    </tr>\n",
       "    <tr>\n",
       "      <th>17</th>\n",
       "      <td>352</td>\n",
       "      <td>1.0</td>\n",
       "      <td>Room</td>\n",
       "      <td>16</td>\n",
       "      <td>København Ø, Strandboulevarden</td>\n",
       "      <td>Temporary room in quiet area, until 1. of Nove...</td>\n",
       "      <td>4 days</td>\n",
       "      <td>5.000</td>\n",
       "      <td>5.00</td>\n",
       "      <td>378</td>\n",
       "      <td>(55.6968187, 12.590396)</td>\n",
       "      <td>(55.65965525, 12.591076889344563)</td>\n",
       "      <td>4.13</td>\n",
       "    </tr>\n",
       "    <tr>\n",
       "      <th>18</th>\n",
       "      <td>466</td>\n",
       "      <td>4.0</td>\n",
       "      <td>Apartment</td>\n",
       "      <td>80</td>\n",
       "      <td>København V, Skydebanegade</td>\n",
       "      <td>Unique 2-floor apartment in the heart of Veste...</td>\n",
       "      <td>26 May15.000 kr.</td>\n",
       "      <td>15.000</td>\n",
       "      <td>5.00</td>\n",
       "      <td>486</td>\n",
       "      <td>(55.6693862, 12.5539985)</td>\n",
       "      <td>(55.65965525, 12.591076889344563)</td>\n",
       "      <td>2.56</td>\n",
       "    </tr>\n",
       "    <tr>\n",
       "      <th>19</th>\n",
       "      <td>83</td>\n",
       "      <td>1.0</td>\n",
       "      <td>Room</td>\n",
       "      <td>20</td>\n",
       "      <td>København S, Else Alfelts Vej</td>\n",
       "      <td>Værelse med udsigt</td>\n",
       "      <td>2 days</td>\n",
       "      <td>5.000</td>\n",
       "      <td>5.00</td>\n",
       "      <td>72</td>\n",
       "      <td>(55.621947, 12.570971)</td>\n",
       "      <td>(55.65965525, 12.591076889344563)</td>\n",
       "      <td>4.38</td>\n",
       "    </tr>\n",
       "    <tr>\n",
       "      <th>20</th>\n",
       "      <td>400</td>\n",
       "      <td>1.0</td>\n",
       "      <td>Room</td>\n",
       "      <td>22</td>\n",
       "      <td>København S, Biens Allé</td>\n",
       "      <td>Room on Amager / Værelse på Amager</td>\n",
       "      <td>5 days</td>\n",
       "      <td>5.000</td>\n",
       "      <td>5.00</td>\n",
       "      <td>432</td>\n",
       "      <td>(55.650587, 12.6173744)</td>\n",
       "      <td>(55.65965525, 12.591076889344563)</td>\n",
       "      <td>1.93</td>\n",
       "    </tr>\n",
       "    <tr>\n",
       "      <th>21</th>\n",
       "      <td>392</td>\n",
       "      <td>5.0</td>\n",
       "      <td>House</td>\n",
       "      <td>108</td>\n",
       "      <td>København S, Oldensti</td>\n",
       "      <td>Sommerudlejning af hus/Summer rental</td>\n",
       "      <td>4 days</td>\n",
       "      <td>20.000</td>\n",
       "      <td>5.00</td>\n",
       "      <td>414</td>\n",
       "      <td>(55.6519217, 12.5917239)</td>\n",
       "      <td>(55.65965525, 12.591076889344563)</td>\n",
       "      <td>0.86</td>\n",
       "    </tr>\n",
       "    <tr>\n",
       "      <th>22</th>\n",
       "      <td>75</td>\n",
       "      <td>4.0</td>\n",
       "      <td>Apartment</td>\n",
       "      <td>100</td>\n",
       "      <td>København S, Richard Mortensens Vej</td>\n",
       "      <td>Skøn 4-værelses på 6. etage med stor altan!</td>\n",
       "      <td>2 days</td>\n",
       "      <td>15.700</td>\n",
       "      <td>5.23</td>\n",
       "      <td>72</td>\n",
       "      <td>(55.623461, 12.571163)</td>\n",
       "      <td>(55.65965525, 12.591076889344563)</td>\n",
       "      <td>4.21</td>\n",
       "    </tr>\n",
       "    <tr>\n",
       "      <th>23</th>\n",
       "      <td>282</td>\n",
       "      <td>4.0</td>\n",
       "      <td>Apartment</td>\n",
       "      <td>103</td>\n",
       "      <td>København S, Oldenborggade</td>\n",
       "      <td>4 værelses lejlighed på Oldenborggade i Københ...</td>\n",
       "      <td>3 days</td>\n",
       "      <td>15.800</td>\n",
       "      <td>5.27</td>\n",
       "      <td>288</td>\n",
       "      <td>(55.6648276, 12.6107957)</td>\n",
       "      <td>(55.65965525, 12.591076889344563)</td>\n",
       "      <td>1.36</td>\n",
       "    </tr>\n",
       "    <tr>\n",
       "      <th>24</th>\n",
       "      <td>414</td>\n",
       "      <td>1.0</td>\n",
       "      <td>Room</td>\n",
       "      <td>18</td>\n",
       "      <td>København V, Vesterbrogade</td>\n",
       "      <td>Stort flot værelse</td>\n",
       "      <td>4 days</td>\n",
       "      <td>5.300</td>\n",
       "      <td>5.30</td>\n",
       "      <td>432</td>\n",
       "      <td>(55.675311, 12.565747)</td>\n",
       "      <td>(55.65965525, 12.591076889344563)</td>\n",
       "      <td>2.36</td>\n",
       "    </tr>\n",
       "    <tr>\n",
       "      <th>25</th>\n",
       "      <td>200</td>\n",
       "      <td>4.0</td>\n",
       "      <td>Apartment</td>\n",
       "      <td>123</td>\n",
       "      <td>København S, Kvintus Allé</td>\n",
       "      <td>Stor nyrenoveret lejlighed med vestvendt altan</td>\n",
       "      <td>2 days</td>\n",
       "      <td>16.246</td>\n",
       "      <td>5.42</td>\n",
       "      <td>198</td>\n",
       "      <td>(55.6602652, 12.6197731)</td>\n",
       "      <td>(55.65965525, 12.591076889344563)</td>\n",
       "      <td>1.80</td>\n",
       "    </tr>\n",
       "  </tbody>\n",
       "</table>\n",
       "</div>"
      ],
      "text/plain": [
       "     id  rooms       type size                             location  \\\n",
       "0   415    4.0  Apartment   89               København N, Thorsgade   \n",
       "1   345    5.0  Apartment  105  København S, Richard Mortensens Vej   \n",
       "2   430    5.0  Apartment  121    Frederiksberg C, H.C. Ørsteds Vej   \n",
       "3   208    1.0       Room   20               København S, Dublinvej   \n",
       "4   201    1.0       Room    8                   København V, Fadet   \n",
       "5   182    4.0  Apartment   98               København S, Skånegade   \n",
       "6   163    5.0  Apartment  125        København S, Else Alfelts Vej   \n",
       "7   120    4.0  Apartment   82        København S, Else Alfelts Vej   \n",
       "8   196    5.0  Apartment  140         København S, Prags Boulevard   \n",
       "9   468    5.0  Apartment  108       Frederiksberg, Nordre Fasanvej   \n",
       "10   34    4.0  Apartment  100             København S, Øresundsvej   \n",
       "11  298    5.0  Apartment  137           København S, Amagerbrogade   \n",
       "12  116    4.0  Apartment   83        København S, Else Alfelts Vej   \n",
       "13  236    1.0       Room   20          København S, Grækenlandsvej   \n",
       "14   39    4.0  Apartment  105       Frederiksberg C, Hostrups Have   \n",
       "15   14    4.0  Apartment   96    Frederiksberg, Aksel Møllers Have   \n",
       "16  503    1.0       Room   15               København V, Istedgade   \n",
       "17  352    1.0       Room   16       København Ø, Strandboulevarden   \n",
       "18  466    4.0  Apartment   80           København V, Skydebanegade   \n",
       "19   83    1.0       Room   20        København S, Else Alfelts Vej   \n",
       "20  400    1.0       Room   22              København S, Biens Allé   \n",
       "21  392    5.0      House  108                København S, Oldensti   \n",
       "22   75    4.0  Apartment  100  København S, Richard Mortensens Vej   \n",
       "23  282    4.0  Apartment  103           København S, Oldenborggade   \n",
       "24  414    1.0       Room   18           København V, Vesterbrogade   \n",
       "25  200    4.0  Apartment  123            København S, Kvintus Allé   \n",
       "\n",
       "                                             comments       time_posted  \\\n",
       "0   Lejlighed til leje i juli måned / Apartment fo...            5 days   \n",
       "1                      Rummelig 5-værelses i Ørestad!            4 days   \n",
       "2           5 vær -121 kvm - 2 plan - Frederiksberg C            5 days   \n",
       "3                                     Pendler værelse            2 days   \n",
       "4                Carlsberg byen 27 etage , værelse B             2 days   \n",
       "5                 3,5 vær på 98 kvm 2300  København S            2 days   \n",
       "6        Familievenlig bolig med eksklusiv vinterhave            2 days   \n",
       "7   4 værelses lejlighed på Else Alfelts Vej i Køb...            2 days   \n",
       "8   5 vær flot nyistandsat lejlighed på 140 kvm fø...            2 days   \n",
       "9   Delevenlig lejlighed på Frederiksberg tæt på N...  26 May18.500 kr.   \n",
       "10  4 værelses lejlighed på Øresundsvej i Københav...         Yesterday   \n",
       "11  5 værelses lejlighed på Amagerbrogade i Københ...            3 days   \n",
       "12            Skønt 4 værelses lejlighed i HeerupHave            2 days   \n",
       "13                                           værelse             3 days   \n",
       "14  4 værelses lejlighed på Hostrups Have i Freder...         Yesterday   \n",
       "15  Unik og super moderne lejlighed med altan og p...          10 hours   \n",
       "16                              a cozy room for rent!   26 May5.000 kr.   \n",
       "17  Temporary room in quiet area, until 1. of Nove...            4 days   \n",
       "18  Unique 2-floor apartment in the heart of Veste...  26 May15.000 kr.   \n",
       "19                                 Værelse med udsigt            2 days   \n",
       "20                 Room on Amager / Værelse på Amager            5 days   \n",
       "21               Sommerudlejning af hus/Summer rental            4 days   \n",
       "22        Skøn 4-værelses på 6. etage med stor altan!            2 days   \n",
       "23  4 værelses lejlighed på Oldenborggade i Københ...            3 days   \n",
       "24                                 Stort flot værelse            4 days   \n",
       "25    Stor nyrenoveret lejlighed med vestvendt altan             2 days   \n",
       "\n",
       "      rent  ratio (1000 DKK)/person   site_num               Coordinates  \\\n",
       "0    9.000                     3.00        432  (55.6975182, 12.5492806)   \n",
       "1   15.750                     3.94        360    (55.623461, 12.571163)   \n",
       "2   15.812                     3.95        450    (55.679559, 12.547653)   \n",
       "3    4.000                     4.00        216  (55.6408113, 12.6041656)   \n",
       "4    4.000                     4.00        198   (55.665218, 12.5326215)   \n",
       "5   12.600                     4.20        180   (55.664127, 12.6017475)   \n",
       "6   17.000                     4.25        162    (55.621947, 12.570971)   \n",
       "7   13.300                     4.43        108    (55.621947, 12.570971)   \n",
       "8   17.950                     4.49        198  (55.6696077, 12.6224605)   \n",
       "9   18.500                     4.62        486  (55.6796542, 12.5215139)   \n",
       "10  13.900                     4.63         18    (55.661419, 12.626561)   \n",
       "11  18.838                     4.71        306  (55.6627236, 12.6022282)   \n",
       "12  14.200                     4.73        108    (55.621947, 12.570971)   \n",
       "13   4.800                     4.80        234  (55.6519519, 12.6153995)   \n",
       "14  14.875                     4.96         36  (55.6848713, 12.5401394)   \n",
       "15  15.000                     5.00  main_site  (55.6860507, 12.5329471)   \n",
       "16   5.000                     5.00        522   (55.668553, 12.5511936)   \n",
       "17   5.000                     5.00        378   (55.6968187, 12.590396)   \n",
       "18  15.000                     5.00        486  (55.6693862, 12.5539985)   \n",
       "19   5.000                     5.00         72    (55.621947, 12.570971)   \n",
       "20   5.000                     5.00        432   (55.650587, 12.6173744)   \n",
       "21  20.000                     5.00        414  (55.6519217, 12.5917239)   \n",
       "22  15.700                     5.23         72    (55.623461, 12.571163)   \n",
       "23  15.800                     5.27        288  (55.6648276, 12.6107957)   \n",
       "24   5.300                     5.30        432    (55.675311, 12.565747)   \n",
       "25  16.246                     5.42        198  (55.6602652, 12.6197731)   \n",
       "\n",
       "                      ITU_coordinates  Distance (km)  \n",
       "0   (55.65965525, 12.591076889344563)           4.96  \n",
       "1   (55.65965525, 12.591076889344563)           4.21  \n",
       "2   (55.65965525, 12.591076889344563)           3.51  \n",
       "3   (55.65965525, 12.591076889344563)           2.25  \n",
       "4   (55.65965525, 12.591076889344563)           3.72  \n",
       "5   (55.65965525, 12.591076889344563)           0.83  \n",
       "6   (55.65965525, 12.591076889344563)           4.38  \n",
       "7   (55.65965525, 12.591076889344563)           4.38  \n",
       "8   (55.65965525, 12.591076889344563)           2.26  \n",
       "9   (55.65965525, 12.591076889344563)           4.90  \n",
       "10  (55.65965525, 12.591076889344563)           2.23  \n",
       "11  (55.65965525, 12.591076889344563)           0.78  \n",
       "12  (55.65965525, 12.591076889344563)           4.38  \n",
       "13  (55.65965525, 12.591076889344563)           1.75  \n",
       "14  (55.65965525, 12.591076889344563)           4.25  \n",
       "15  (55.65965525, 12.591076889344563)           4.68  \n",
       "16  (55.65965525, 12.591076889344563)           2.69  \n",
       "17  (55.65965525, 12.591076889344563)           4.13  \n",
       "18  (55.65965525, 12.591076889344563)           2.56  \n",
       "19  (55.65965525, 12.591076889344563)           4.38  \n",
       "20  (55.65965525, 12.591076889344563)           1.93  \n",
       "21  (55.65965525, 12.591076889344563)           0.86  \n",
       "22  (55.65965525, 12.591076889344563)           4.21  \n",
       "23  (55.65965525, 12.591076889344563)           1.36  \n",
       "24  (55.65965525, 12.591076889344563)           2.36  \n",
       "25  (55.65965525, 12.591076889344563)           1.80  "
      ]
     },
     "execution_count": 119,
     "metadata": {},
     "output_type": "execute_result"
    }
   ],
   "source": [
    "def best_options(df,max_rent=5.5,max_dist=5):\n",
    "    best_options = df\n",
    "    orignal_size = best_options.shape[0]\n",
    "    best_options['Distance (km)'] = best_options['Distance (km)'].replace('Error', 9999)\n",
    "    best_options = best_options[(best_options['ratio (1000 DKK)/person'] < max_rent) & (best_options['Distance (km)'] < max_dist)]\n",
    "    print('Ratio of best options: {}%'.format(round(best_options.shape[0]/orignal_size*100,2)))\n",
    "    return best_options\n",
    "\n",
    "best_options_df = best_options(df=df,max_rent=5.5,max_dist=5)\n",
    "best_options_df = best_options_df.reset_index(drop=True)\n",
    "best_options_df"
   ]
  },
  {
   "attachments": {},
   "cell_type": "markdown",
   "metadata": {},
   "source": [
    "Now we are going to plot a map with the different coordinates"
   ]
  },
  {
   "cell_type": "code",
   "execution_count": 121,
   "metadata": {},
   "outputs": [
    {
     "data": {
      "text/html": [
       "<div style=\"width:100%;\"><div style=\"position:relative;width:100%;height:0;padding-bottom:60%;\"><span style=\"color:#565656\">Make this Notebook Trusted to load map: File -> Trust Notebook</span><iframe src=\"about:blank\" style=\"position:absolute;width:100%;height:100%;left:0;top:0;border:none !important;\" data-html=%3C%21DOCTYPE%20html%3E%0A%3Chead%3E%20%20%20%20%0A%20%20%20%20%3Cmeta%20http-equiv%3D%22content-type%22%20content%3D%22text/html%3B%20charset%3DUTF-8%22%20/%3E%0A%20%20%20%20%0A%20%20%20%20%20%20%20%20%3Cscript%3E%0A%20%20%20%20%20%20%20%20%20%20%20%20L_NO_TOUCH%20%3D%20false%3B%0A%20%20%20%20%20%20%20%20%20%20%20%20L_DISABLE_3D%20%3D%20false%3B%0A%20%20%20%20%20%20%20%20%3C/script%3E%0A%20%20%20%20%0A%20%20%20%20%3Cstyle%3Ehtml%2C%20body%20%7Bwidth%3A%20100%25%3Bheight%3A%20100%25%3Bmargin%3A%200%3Bpadding%3A%200%3B%7D%3C/style%3E%0A%20%20%20%20%3Cstyle%3E%23map%20%7Bposition%3Aabsolute%3Btop%3A0%3Bbottom%3A0%3Bright%3A0%3Bleft%3A0%3B%7D%3C/style%3E%0A%20%20%20%20%3Cscript%20src%3D%22https%3A//cdn.jsdelivr.net/npm/leaflet%401.6.0/dist/leaflet.js%22%3E%3C/script%3E%0A%20%20%20%20%3Cscript%20src%3D%22https%3A//code.jquery.com/jquery-1.12.4.min.js%22%3E%3C/script%3E%0A%20%20%20%20%3Cscript%20src%3D%22https%3A//maxcdn.bootstrapcdn.com/bootstrap/3.2.0/js/bootstrap.min.js%22%3E%3C/script%3E%0A%20%20%20%20%3Cscript%20src%3D%22https%3A//cdnjs.cloudflare.com/ajax/libs/Leaflet.awesome-markers/2.0.2/leaflet.awesome-markers.js%22%3E%3C/script%3E%0A%20%20%20%20%3Clink%20rel%3D%22stylesheet%22%20href%3D%22https%3A//cdn.jsdelivr.net/npm/leaflet%401.6.0/dist/leaflet.css%22/%3E%0A%20%20%20%20%3Clink%20rel%3D%22stylesheet%22%20href%3D%22https%3A//maxcdn.bootstrapcdn.com/bootstrap/3.2.0/css/bootstrap.min.css%22/%3E%0A%20%20%20%20%3Clink%20rel%3D%22stylesheet%22%20href%3D%22https%3A//maxcdn.bootstrapcdn.com/bootstrap/3.2.0/css/bootstrap-theme.min.css%22/%3E%0A%20%20%20%20%3Clink%20rel%3D%22stylesheet%22%20href%3D%22https%3A//maxcdn.bootstrapcdn.com/font-awesome/4.6.3/css/font-awesome.min.css%22/%3E%0A%20%20%20%20%3Clink%20rel%3D%22stylesheet%22%20href%3D%22https%3A//cdnjs.cloudflare.com/ajax/libs/Leaflet.awesome-markers/2.0.2/leaflet.awesome-markers.css%22/%3E%0A%20%20%20%20%3Clink%20rel%3D%22stylesheet%22%20href%3D%22https%3A//cdn.jsdelivr.net/gh/python-visualization/folium/folium/templates/leaflet.awesome.rotate.min.css%22/%3E%0A%20%20%20%20%0A%20%20%20%20%20%20%20%20%20%20%20%20%3Cmeta%20name%3D%22viewport%22%20content%3D%22width%3Ddevice-width%2C%0A%20%20%20%20%20%20%20%20%20%20%20%20%20%20%20%20initial-scale%3D1.0%2C%20maximum-scale%3D1.0%2C%20user-scalable%3Dno%22%20/%3E%0A%20%20%20%20%20%20%20%20%20%20%20%20%3Cstyle%3E%0A%20%20%20%20%20%20%20%20%20%20%20%20%20%20%20%20%23map_61ad0aba720143fd9f0a64f4c83a794f%20%7B%0A%20%20%20%20%20%20%20%20%20%20%20%20%20%20%20%20%20%20%20%20position%3A%20relative%3B%0A%20%20%20%20%20%20%20%20%20%20%20%20%20%20%20%20%20%20%20%20width%3A%20100.0%25%3B%0A%20%20%20%20%20%20%20%20%20%20%20%20%20%20%20%20%20%20%20%20height%3A%20100.0%25%3B%0A%20%20%20%20%20%20%20%20%20%20%20%20%20%20%20%20%20%20%20%20left%3A%200.0%25%3B%0A%20%20%20%20%20%20%20%20%20%20%20%20%20%20%20%20%20%20%20%20top%3A%200.0%25%3B%0A%20%20%20%20%20%20%20%20%20%20%20%20%20%20%20%20%7D%0A%20%20%20%20%20%20%20%20%20%20%20%20%3C/style%3E%0A%20%20%20%20%20%20%20%20%0A%3C/head%3E%0A%3Cbody%3E%20%20%20%20%0A%20%20%20%20%0A%20%20%20%20%20%20%20%20%20%20%20%20%3Cdiv%20class%3D%22folium-map%22%20id%3D%22map_61ad0aba720143fd9f0a64f4c83a794f%22%20%3E%3C/div%3E%0A%20%20%20%20%20%20%20%20%0A%3C/body%3E%0A%3Cscript%3E%20%20%20%20%0A%20%20%20%20%0A%20%20%20%20%20%20%20%20%20%20%20%20var%20map_61ad0aba720143fd9f0a64f4c83a794f%20%3D%20L.map%28%0A%20%20%20%20%20%20%20%20%20%20%20%20%20%20%20%20%22map_61ad0aba720143fd9f0a64f4c83a794f%22%2C%0A%20%20%20%20%20%20%20%20%20%20%20%20%20%20%20%20%7B%0A%20%20%20%20%20%20%20%20%20%20%20%20%20%20%20%20%20%20%20%20center%3A%20%5B55.65830355%2C%2012.57784346153846%5D%2C%0A%20%20%20%20%20%20%20%20%20%20%20%20%20%20%20%20%20%20%20%20crs%3A%20L.CRS.EPSG3857%2C%0A%20%20%20%20%20%20%20%20%20%20%20%20%20%20%20%20%20%20%20%20zoom%3A%2012%2C%0A%20%20%20%20%20%20%20%20%20%20%20%20%20%20%20%20%20%20%20%20zoomControl%3A%20true%2C%0A%20%20%20%20%20%20%20%20%20%20%20%20%20%20%20%20%20%20%20%20preferCanvas%3A%20false%2C%0A%20%20%20%20%20%20%20%20%20%20%20%20%20%20%20%20%7D%0A%20%20%20%20%20%20%20%20%20%20%20%20%29%3B%0A%0A%20%20%20%20%20%20%20%20%20%20%20%20%0A%0A%20%20%20%20%20%20%20%20%0A%20%20%20%20%0A%20%20%20%20%20%20%20%20%20%20%20%20var%20tile_layer_628a05d33cd6466cbf119e5434d9ec71%20%3D%20L.tileLayer%28%0A%20%20%20%20%20%20%20%20%20%20%20%20%20%20%20%20%22https%3A//%7Bs%7D.tile.openstreetmap.org/%7Bz%7D/%7Bx%7D/%7By%7D.png%22%2C%0A%20%20%20%20%20%20%20%20%20%20%20%20%20%20%20%20%7B%22attribution%22%3A%20%22Data%20by%20%5Cu0026copy%3B%20%5Cu003ca%20href%3D%5C%22http%3A//openstreetmap.org%5C%22%5Cu003eOpenStreetMap%5Cu003c/a%5Cu003e%2C%20under%20%5Cu003ca%20href%3D%5C%22http%3A//www.openstreetmap.org/copyright%5C%22%5Cu003eODbL%5Cu003c/a%5Cu003e.%22%2C%20%22detectRetina%22%3A%20false%2C%20%22maxNativeZoom%22%3A%2018%2C%20%22maxZoom%22%3A%2018%2C%20%22minZoom%22%3A%200%2C%20%22noWrap%22%3A%20false%2C%20%22opacity%22%3A%201%2C%20%22subdomains%22%3A%20%22abc%22%2C%20%22tms%22%3A%20false%7D%0A%20%20%20%20%20%20%20%20%20%20%20%20%29.addTo%28map_61ad0aba720143fd9f0a64f4c83a794f%29%3B%0A%20%20%20%20%20%20%20%20%0A%20%20%20%20%0A%20%20%20%20%20%20%20%20%20%20%20%20var%20marker_c5ec40e5219549489650486eb7f2777b%20%3D%20L.marker%28%0A%20%20%20%20%20%20%20%20%20%20%20%20%20%20%20%20%5B55.6975182%2C%2012.5492806%5D%2C%0A%20%20%20%20%20%20%20%20%20%20%20%20%20%20%20%20%7B%7D%0A%20%20%20%20%20%20%20%20%20%20%20%20%29.addTo%28map_61ad0aba720143fd9f0a64f4c83a794f%29%3B%0A%20%20%20%20%20%20%20%20%0A%20%20%20%20%0A%20%20%20%20%20%20%20%20var%20popup_e4ba1884d2bc46b5ad24ac6ab0866e16%20%3D%20L.popup%28%7B%22maxWidth%22%3A%20%22100%25%22%7D%29%3B%0A%0A%20%20%20%20%20%20%20%20%0A%20%20%20%20%20%20%20%20%20%20%20%20var%20html_10699c4d59cc4ff0b68db51b1f3d30ef%20%3D%20%24%28%60%3Cdiv%20id%3D%22html_10699c4d59cc4ff0b68db51b1f3d30ef%22%20style%3D%22width%3A%20100.0%25%3B%20height%3A%20100.0%25%3B%22%3EMarker%20Popup%3C/div%3E%60%29%5B0%5D%3B%0A%20%20%20%20%20%20%20%20%20%20%20%20popup_e4ba1884d2bc46b5ad24ac6ab0866e16.setContent%28html_10699c4d59cc4ff0b68db51b1f3d30ef%29%3B%0A%20%20%20%20%20%20%20%20%0A%0A%20%20%20%20%20%20%20%20marker_c5ec40e5219549489650486eb7f2777b.bindPopup%28popup_e4ba1884d2bc46b5ad24ac6ab0866e16%29%0A%20%20%20%20%20%20%20%20%3B%0A%0A%20%20%20%20%20%20%20%20%0A%20%20%20%20%0A%20%20%20%20%0A%20%20%20%20%20%20%20%20%20%20%20%20marker_c5ec40e5219549489650486eb7f2777b.bindTooltip%28%0A%20%20%20%20%20%20%20%20%20%20%20%20%20%20%20%20%60%3Cdiv%3E%0A%20%20%20%20%20%20%20%20%20%20%20%20%20%20%20%20%20%20%20%20%20%7B%27Location%27%3A%20%27K%C3%B8benhavn%20N%2C%20Thorsgade%27%2C%20%27Rent%27%3A%209.0%2C%20%27Rooms%27%3A%204.0%7D%0A%20%20%20%20%20%20%20%20%20%20%20%20%20%20%20%20%20%3C/div%3E%60%2C%0A%20%20%20%20%20%20%20%20%20%20%20%20%20%20%20%20%7B%22sticky%22%3A%20true%7D%0A%20%20%20%20%20%20%20%20%20%20%20%20%29%3B%0A%20%20%20%20%20%20%20%20%0A%20%20%20%20%0A%20%20%20%20%20%20%20%20%20%20%20%20var%20marker_f82f902b44e745878b411bfd184cf0e7%20%3D%20L.marker%28%0A%20%20%20%20%20%20%20%20%20%20%20%20%20%20%20%20%5B55.623461%2C%2012.571163%5D%2C%0A%20%20%20%20%20%20%20%20%20%20%20%20%20%20%20%20%7B%7D%0A%20%20%20%20%20%20%20%20%20%20%20%20%29.addTo%28map_61ad0aba720143fd9f0a64f4c83a794f%29%3B%0A%20%20%20%20%20%20%20%20%0A%20%20%20%20%0A%20%20%20%20%20%20%20%20var%20popup_f25482e465204ab68e4e0528ce47f5a2%20%3D%20L.popup%28%7B%22maxWidth%22%3A%20%22100%25%22%7D%29%3B%0A%0A%20%20%20%20%20%20%20%20%0A%20%20%20%20%20%20%20%20%20%20%20%20var%20html_03d2c93b9f004fecbc84755694410761%20%3D%20%24%28%60%3Cdiv%20id%3D%22html_03d2c93b9f004fecbc84755694410761%22%20style%3D%22width%3A%20100.0%25%3B%20height%3A%20100.0%25%3B%22%3EMarker%20Popup%3C/div%3E%60%29%5B0%5D%3B%0A%20%20%20%20%20%20%20%20%20%20%20%20popup_f25482e465204ab68e4e0528ce47f5a2.setContent%28html_03d2c93b9f004fecbc84755694410761%29%3B%0A%20%20%20%20%20%20%20%20%0A%0A%20%20%20%20%20%20%20%20marker_f82f902b44e745878b411bfd184cf0e7.bindPopup%28popup_f25482e465204ab68e4e0528ce47f5a2%29%0A%20%20%20%20%20%20%20%20%3B%0A%0A%20%20%20%20%20%20%20%20%0A%20%20%20%20%0A%20%20%20%20%0A%20%20%20%20%20%20%20%20%20%20%20%20marker_f82f902b44e745878b411bfd184cf0e7.bindTooltip%28%0A%20%20%20%20%20%20%20%20%20%20%20%20%20%20%20%20%60%3Cdiv%3E%0A%20%20%20%20%20%20%20%20%20%20%20%20%20%20%20%20%20%20%20%20%20%7B%27Location%27%3A%20%27K%C3%B8benhavn%20S%2C%20Richard%20Mortensens%20Vej%27%2C%20%27Rent%27%3A%2015.75%2C%20%27Rooms%27%3A%205.0%7D%0A%20%20%20%20%20%20%20%20%20%20%20%20%20%20%20%20%20%3C/div%3E%60%2C%0A%20%20%20%20%20%20%20%20%20%20%20%20%20%20%20%20%7B%22sticky%22%3A%20true%7D%0A%20%20%20%20%20%20%20%20%20%20%20%20%29%3B%0A%20%20%20%20%20%20%20%20%0A%20%20%20%20%0A%20%20%20%20%20%20%20%20%20%20%20%20var%20marker_03552c3d494441f08d1fbac3bfb68931%20%3D%20L.marker%28%0A%20%20%20%20%20%20%20%20%20%20%20%20%20%20%20%20%5B55.679559%2C%2012.547653%5D%2C%0A%20%20%20%20%20%20%20%20%20%20%20%20%20%20%20%20%7B%7D%0A%20%20%20%20%20%20%20%20%20%20%20%20%29.addTo%28map_61ad0aba720143fd9f0a64f4c83a794f%29%3B%0A%20%20%20%20%20%20%20%20%0A%20%20%20%20%0A%20%20%20%20%20%20%20%20var%20popup_ed188ff6aaed432a8ed1b5e0ab2c9e67%20%3D%20L.popup%28%7B%22maxWidth%22%3A%20%22100%25%22%7D%29%3B%0A%0A%20%20%20%20%20%20%20%20%0A%20%20%20%20%20%20%20%20%20%20%20%20var%20html_350e73b08c8540ec8b7f7960b9933855%20%3D%20%24%28%60%3Cdiv%20id%3D%22html_350e73b08c8540ec8b7f7960b9933855%22%20style%3D%22width%3A%20100.0%25%3B%20height%3A%20100.0%25%3B%22%3EMarker%20Popup%3C/div%3E%60%29%5B0%5D%3B%0A%20%20%20%20%20%20%20%20%20%20%20%20popup_ed188ff6aaed432a8ed1b5e0ab2c9e67.setContent%28html_350e73b08c8540ec8b7f7960b9933855%29%3B%0A%20%20%20%20%20%20%20%20%0A%0A%20%20%20%20%20%20%20%20marker_03552c3d494441f08d1fbac3bfb68931.bindPopup%28popup_ed188ff6aaed432a8ed1b5e0ab2c9e67%29%0A%20%20%20%20%20%20%20%20%3B%0A%0A%20%20%20%20%20%20%20%20%0A%20%20%20%20%0A%20%20%20%20%0A%20%20%20%20%20%20%20%20%20%20%20%20marker_03552c3d494441f08d1fbac3bfb68931.bindTooltip%28%0A%20%20%20%20%20%20%20%20%20%20%20%20%20%20%20%20%60%3Cdiv%3E%0A%20%20%20%20%20%20%20%20%20%20%20%20%20%20%20%20%20%20%20%20%20%7B%27Location%27%3A%20%27Frederiksberg%20C%2C%20H.C.%20%C3%98rsteds%20Vej%27%2C%20%27Rent%27%3A%2015.812%2C%20%27Rooms%27%3A%205.0%7D%0A%20%20%20%20%20%20%20%20%20%20%20%20%20%20%20%20%20%3C/div%3E%60%2C%0A%20%20%20%20%20%20%20%20%20%20%20%20%20%20%20%20%7B%22sticky%22%3A%20true%7D%0A%20%20%20%20%20%20%20%20%20%20%20%20%29%3B%0A%20%20%20%20%20%20%20%20%0A%20%20%20%20%0A%20%20%20%20%20%20%20%20%20%20%20%20var%20marker_3d876b6532b44864bac8d2b856a504de%20%3D%20L.marker%28%0A%20%20%20%20%20%20%20%20%20%20%20%20%20%20%20%20%5B55.6408113%2C%2012.6041656%5D%2C%0A%20%20%20%20%20%20%20%20%20%20%20%20%20%20%20%20%7B%7D%0A%20%20%20%20%20%20%20%20%20%20%20%20%29.addTo%28map_61ad0aba720143fd9f0a64f4c83a794f%29%3B%0A%20%20%20%20%20%20%20%20%0A%20%20%20%20%0A%20%20%20%20%20%20%20%20var%20popup_f63b488f380f48eca5cdd3825ce117e1%20%3D%20L.popup%28%7B%22maxWidth%22%3A%20%22100%25%22%7D%29%3B%0A%0A%20%20%20%20%20%20%20%20%0A%20%20%20%20%20%20%20%20%20%20%20%20var%20html_8c376f8ae8f64b1f82b8862b036c375a%20%3D%20%24%28%60%3Cdiv%20id%3D%22html_8c376f8ae8f64b1f82b8862b036c375a%22%20style%3D%22width%3A%20100.0%25%3B%20height%3A%20100.0%25%3B%22%3EMarker%20Popup%3C/div%3E%60%29%5B0%5D%3B%0A%20%20%20%20%20%20%20%20%20%20%20%20popup_f63b488f380f48eca5cdd3825ce117e1.setContent%28html_8c376f8ae8f64b1f82b8862b036c375a%29%3B%0A%20%20%20%20%20%20%20%20%0A%0A%20%20%20%20%20%20%20%20marker_3d876b6532b44864bac8d2b856a504de.bindPopup%28popup_f63b488f380f48eca5cdd3825ce117e1%29%0A%20%20%20%20%20%20%20%20%3B%0A%0A%20%20%20%20%20%20%20%20%0A%20%20%20%20%0A%20%20%20%20%0A%20%20%20%20%20%20%20%20%20%20%20%20marker_3d876b6532b44864bac8d2b856a504de.bindTooltip%28%0A%20%20%20%20%20%20%20%20%20%20%20%20%20%20%20%20%60%3Cdiv%3E%0A%20%20%20%20%20%20%20%20%20%20%20%20%20%20%20%20%20%20%20%20%20%7B%27Location%27%3A%20%27K%C3%B8benhavn%20S%2C%20Dublinvej%27%2C%20%27Rent%27%3A%204.0%2C%20%27Rooms%27%3A%201.0%7D%0A%20%20%20%20%20%20%20%20%20%20%20%20%20%20%20%20%20%3C/div%3E%60%2C%0A%20%20%20%20%20%20%20%20%20%20%20%20%20%20%20%20%7B%22sticky%22%3A%20true%7D%0A%20%20%20%20%20%20%20%20%20%20%20%20%29%3B%0A%20%20%20%20%20%20%20%20%0A%20%20%20%20%0A%20%20%20%20%20%20%20%20%20%20%20%20var%20marker_263a153e8daf4e6eaa3d12ff41bd0f43%20%3D%20L.marker%28%0A%20%20%20%20%20%20%20%20%20%20%20%20%20%20%20%20%5B55.665218%2C%2012.5326215%5D%2C%0A%20%20%20%20%20%20%20%20%20%20%20%20%20%20%20%20%7B%7D%0A%20%20%20%20%20%20%20%20%20%20%20%20%29.addTo%28map_61ad0aba720143fd9f0a64f4c83a794f%29%3B%0A%20%20%20%20%20%20%20%20%0A%20%20%20%20%0A%20%20%20%20%20%20%20%20var%20popup_a7e3b55ce52d4af5ace427573d757e16%20%3D%20L.popup%28%7B%22maxWidth%22%3A%20%22100%25%22%7D%29%3B%0A%0A%20%20%20%20%20%20%20%20%0A%20%20%20%20%20%20%20%20%20%20%20%20var%20html_199783914b094b419757845ab4825656%20%3D%20%24%28%60%3Cdiv%20id%3D%22html_199783914b094b419757845ab4825656%22%20style%3D%22width%3A%20100.0%25%3B%20height%3A%20100.0%25%3B%22%3EMarker%20Popup%3C/div%3E%60%29%5B0%5D%3B%0A%20%20%20%20%20%20%20%20%20%20%20%20popup_a7e3b55ce52d4af5ace427573d757e16.setContent%28html_199783914b094b419757845ab4825656%29%3B%0A%20%20%20%20%20%20%20%20%0A%0A%20%20%20%20%20%20%20%20marker_263a153e8daf4e6eaa3d12ff41bd0f43.bindPopup%28popup_a7e3b55ce52d4af5ace427573d757e16%29%0A%20%20%20%20%20%20%20%20%3B%0A%0A%20%20%20%20%20%20%20%20%0A%20%20%20%20%0A%20%20%20%20%0A%20%20%20%20%20%20%20%20%20%20%20%20marker_263a153e8daf4e6eaa3d12ff41bd0f43.bindTooltip%28%0A%20%20%20%20%20%20%20%20%20%20%20%20%20%20%20%20%60%3Cdiv%3E%0A%20%20%20%20%20%20%20%20%20%20%20%20%20%20%20%20%20%20%20%20%20%7B%27Location%27%3A%20%27K%C3%B8benhavn%20V%2C%20Fadet%27%2C%20%27Rent%27%3A%204.0%2C%20%27Rooms%27%3A%201.0%7D%0A%20%20%20%20%20%20%20%20%20%20%20%20%20%20%20%20%20%3C/div%3E%60%2C%0A%20%20%20%20%20%20%20%20%20%20%20%20%20%20%20%20%7B%22sticky%22%3A%20true%7D%0A%20%20%20%20%20%20%20%20%20%20%20%20%29%3B%0A%20%20%20%20%20%20%20%20%0A%20%20%20%20%0A%20%20%20%20%20%20%20%20%20%20%20%20var%20marker_d0e9eccd8aff458982272898c4a0a789%20%3D%20L.marker%28%0A%20%20%20%20%20%20%20%20%20%20%20%20%20%20%20%20%5B55.664127%2C%2012.6017475%5D%2C%0A%20%20%20%20%20%20%20%20%20%20%20%20%20%20%20%20%7B%7D%0A%20%20%20%20%20%20%20%20%20%20%20%20%29.addTo%28map_61ad0aba720143fd9f0a64f4c83a794f%29%3B%0A%20%20%20%20%20%20%20%20%0A%20%20%20%20%0A%20%20%20%20%20%20%20%20var%20popup_d1c116669acd4cd0b83673dc8e474a3b%20%3D%20L.popup%28%7B%22maxWidth%22%3A%20%22100%25%22%7D%29%3B%0A%0A%20%20%20%20%20%20%20%20%0A%20%20%20%20%20%20%20%20%20%20%20%20var%20html_2ed362d9a5f54eef8fdd13c8c79ad644%20%3D%20%24%28%60%3Cdiv%20id%3D%22html_2ed362d9a5f54eef8fdd13c8c79ad644%22%20style%3D%22width%3A%20100.0%25%3B%20height%3A%20100.0%25%3B%22%3EMarker%20Popup%3C/div%3E%60%29%5B0%5D%3B%0A%20%20%20%20%20%20%20%20%20%20%20%20popup_d1c116669acd4cd0b83673dc8e474a3b.setContent%28html_2ed362d9a5f54eef8fdd13c8c79ad644%29%3B%0A%20%20%20%20%20%20%20%20%0A%0A%20%20%20%20%20%20%20%20marker_d0e9eccd8aff458982272898c4a0a789.bindPopup%28popup_d1c116669acd4cd0b83673dc8e474a3b%29%0A%20%20%20%20%20%20%20%20%3B%0A%0A%20%20%20%20%20%20%20%20%0A%20%20%20%20%0A%20%20%20%20%0A%20%20%20%20%20%20%20%20%20%20%20%20marker_d0e9eccd8aff458982272898c4a0a789.bindTooltip%28%0A%20%20%20%20%20%20%20%20%20%20%20%20%20%20%20%20%60%3Cdiv%3E%0A%20%20%20%20%20%20%20%20%20%20%20%20%20%20%20%20%20%20%20%20%20%7B%27Location%27%3A%20%27K%C3%B8benhavn%20S%2C%20Sk%C3%A5negade%27%2C%20%27Rent%27%3A%2012.6%2C%20%27Rooms%27%3A%204.0%7D%0A%20%20%20%20%20%20%20%20%20%20%20%20%20%20%20%20%20%3C/div%3E%60%2C%0A%20%20%20%20%20%20%20%20%20%20%20%20%20%20%20%20%7B%22sticky%22%3A%20true%7D%0A%20%20%20%20%20%20%20%20%20%20%20%20%29%3B%0A%20%20%20%20%20%20%20%20%0A%20%20%20%20%0A%20%20%20%20%20%20%20%20%20%20%20%20var%20marker_0f8c50b85e124349be30beff49e2d213%20%3D%20L.marker%28%0A%20%20%20%20%20%20%20%20%20%20%20%20%20%20%20%20%5B55.621947%2C%2012.570971%5D%2C%0A%20%20%20%20%20%20%20%20%20%20%20%20%20%20%20%20%7B%7D%0A%20%20%20%20%20%20%20%20%20%20%20%20%29.addTo%28map_61ad0aba720143fd9f0a64f4c83a794f%29%3B%0A%20%20%20%20%20%20%20%20%0A%20%20%20%20%0A%20%20%20%20%20%20%20%20var%20popup_403a8d435aed406dbecb19620de3a516%20%3D%20L.popup%28%7B%22maxWidth%22%3A%20%22100%25%22%7D%29%3B%0A%0A%20%20%20%20%20%20%20%20%0A%20%20%20%20%20%20%20%20%20%20%20%20var%20html_95b8cd09569942c3bb4605e9e49acbbc%20%3D%20%24%28%60%3Cdiv%20id%3D%22html_95b8cd09569942c3bb4605e9e49acbbc%22%20style%3D%22width%3A%20100.0%25%3B%20height%3A%20100.0%25%3B%22%3EMarker%20Popup%3C/div%3E%60%29%5B0%5D%3B%0A%20%20%20%20%20%20%20%20%20%20%20%20popup_403a8d435aed406dbecb19620de3a516.setContent%28html_95b8cd09569942c3bb4605e9e49acbbc%29%3B%0A%20%20%20%20%20%20%20%20%0A%0A%20%20%20%20%20%20%20%20marker_0f8c50b85e124349be30beff49e2d213.bindPopup%28popup_403a8d435aed406dbecb19620de3a516%29%0A%20%20%20%20%20%20%20%20%3B%0A%0A%20%20%20%20%20%20%20%20%0A%20%20%20%20%0A%20%20%20%20%0A%20%20%20%20%20%20%20%20%20%20%20%20marker_0f8c50b85e124349be30beff49e2d213.bindTooltip%28%0A%20%20%20%20%20%20%20%20%20%20%20%20%20%20%20%20%60%3Cdiv%3E%0A%20%20%20%20%20%20%20%20%20%20%20%20%20%20%20%20%20%20%20%20%20%7B%27Location%27%3A%20%27K%C3%B8benhavn%20S%2C%20Else%20Alfelts%20Vej%27%2C%20%27Rent%27%3A%2017.0%2C%20%27Rooms%27%3A%205.0%7D%0A%20%20%20%20%20%20%20%20%20%20%20%20%20%20%20%20%20%3C/div%3E%60%2C%0A%20%20%20%20%20%20%20%20%20%20%20%20%20%20%20%20%7B%22sticky%22%3A%20true%7D%0A%20%20%20%20%20%20%20%20%20%20%20%20%29%3B%0A%20%20%20%20%20%20%20%20%0A%20%20%20%20%0A%20%20%20%20%20%20%20%20%20%20%20%20var%20marker_c1cd76019fcd4a1da33264a3b749b52f%20%3D%20L.marker%28%0A%20%20%20%20%20%20%20%20%20%20%20%20%20%20%20%20%5B55.621947%2C%2012.570971%5D%2C%0A%20%20%20%20%20%20%20%20%20%20%20%20%20%20%20%20%7B%7D%0A%20%20%20%20%20%20%20%20%20%20%20%20%29.addTo%28map_61ad0aba720143fd9f0a64f4c83a794f%29%3B%0A%20%20%20%20%20%20%20%20%0A%20%20%20%20%0A%20%20%20%20%20%20%20%20var%20popup_600a378da7ac4160ad7d0785b2be0693%20%3D%20L.popup%28%7B%22maxWidth%22%3A%20%22100%25%22%7D%29%3B%0A%0A%20%20%20%20%20%20%20%20%0A%20%20%20%20%20%20%20%20%20%20%20%20var%20html_7ec9496fc44946cab7f68d0eab856964%20%3D%20%24%28%60%3Cdiv%20id%3D%22html_7ec9496fc44946cab7f68d0eab856964%22%20style%3D%22width%3A%20100.0%25%3B%20height%3A%20100.0%25%3B%22%3EMarker%20Popup%3C/div%3E%60%29%5B0%5D%3B%0A%20%20%20%20%20%20%20%20%20%20%20%20popup_600a378da7ac4160ad7d0785b2be0693.setContent%28html_7ec9496fc44946cab7f68d0eab856964%29%3B%0A%20%20%20%20%20%20%20%20%0A%0A%20%20%20%20%20%20%20%20marker_c1cd76019fcd4a1da33264a3b749b52f.bindPopup%28popup_600a378da7ac4160ad7d0785b2be0693%29%0A%20%20%20%20%20%20%20%20%3B%0A%0A%20%20%20%20%20%20%20%20%0A%20%20%20%20%0A%20%20%20%20%0A%20%20%20%20%20%20%20%20%20%20%20%20marker_c1cd76019fcd4a1da33264a3b749b52f.bindTooltip%28%0A%20%20%20%20%20%20%20%20%20%20%20%20%20%20%20%20%60%3Cdiv%3E%0A%20%20%20%20%20%20%20%20%20%20%20%20%20%20%20%20%20%20%20%20%20%7B%27Location%27%3A%20%27K%C3%B8benhavn%20S%2C%20Else%20Alfelts%20Vej%27%2C%20%27Rent%27%3A%2013.3%2C%20%27Rooms%27%3A%204.0%7D%0A%20%20%20%20%20%20%20%20%20%20%20%20%20%20%20%20%20%3C/div%3E%60%2C%0A%20%20%20%20%20%20%20%20%20%20%20%20%20%20%20%20%7B%22sticky%22%3A%20true%7D%0A%20%20%20%20%20%20%20%20%20%20%20%20%29%3B%0A%20%20%20%20%20%20%20%20%0A%20%20%20%20%0A%20%20%20%20%20%20%20%20%20%20%20%20var%20marker_e103d4241f504f76a2be9de65c25494f%20%3D%20L.marker%28%0A%20%20%20%20%20%20%20%20%20%20%20%20%20%20%20%20%5B55.6696077%2C%2012.6224605%5D%2C%0A%20%20%20%20%20%20%20%20%20%20%20%20%20%20%20%20%7B%7D%0A%20%20%20%20%20%20%20%20%20%20%20%20%29.addTo%28map_61ad0aba720143fd9f0a64f4c83a794f%29%3B%0A%20%20%20%20%20%20%20%20%0A%20%20%20%20%0A%20%20%20%20%20%20%20%20var%20popup_672636084c54475bb0fb4c0bf62ec3a6%20%3D%20L.popup%28%7B%22maxWidth%22%3A%20%22100%25%22%7D%29%3B%0A%0A%20%20%20%20%20%20%20%20%0A%20%20%20%20%20%20%20%20%20%20%20%20var%20html_1a1ae0542c2f48b19bddfa99e0c0f854%20%3D%20%24%28%60%3Cdiv%20id%3D%22html_1a1ae0542c2f48b19bddfa99e0c0f854%22%20style%3D%22width%3A%20100.0%25%3B%20height%3A%20100.0%25%3B%22%3EMarker%20Popup%3C/div%3E%60%29%5B0%5D%3B%0A%20%20%20%20%20%20%20%20%20%20%20%20popup_672636084c54475bb0fb4c0bf62ec3a6.setContent%28html_1a1ae0542c2f48b19bddfa99e0c0f854%29%3B%0A%20%20%20%20%20%20%20%20%0A%0A%20%20%20%20%20%20%20%20marker_e103d4241f504f76a2be9de65c25494f.bindPopup%28popup_672636084c54475bb0fb4c0bf62ec3a6%29%0A%20%20%20%20%20%20%20%20%3B%0A%0A%20%20%20%20%20%20%20%20%0A%20%20%20%20%0A%20%20%20%20%0A%20%20%20%20%20%20%20%20%20%20%20%20marker_e103d4241f504f76a2be9de65c25494f.bindTooltip%28%0A%20%20%20%20%20%20%20%20%20%20%20%20%20%20%20%20%60%3Cdiv%3E%0A%20%20%20%20%20%20%20%20%20%20%20%20%20%20%20%20%20%20%20%20%20%7B%27Location%27%3A%20%27K%C3%B8benhavn%20S%2C%20Prags%20Boulevard%27%2C%20%27Rent%27%3A%2017.95%2C%20%27Rooms%27%3A%205.0%7D%0A%20%20%20%20%20%20%20%20%20%20%20%20%20%20%20%20%20%3C/div%3E%60%2C%0A%20%20%20%20%20%20%20%20%20%20%20%20%20%20%20%20%7B%22sticky%22%3A%20true%7D%0A%20%20%20%20%20%20%20%20%20%20%20%20%29%3B%0A%20%20%20%20%20%20%20%20%0A%20%20%20%20%0A%20%20%20%20%20%20%20%20%20%20%20%20var%20marker_2956af4987214971b86bc1361e015f68%20%3D%20L.marker%28%0A%20%20%20%20%20%20%20%20%20%20%20%20%20%20%20%20%5B55.6796542%2C%2012.5215139%5D%2C%0A%20%20%20%20%20%20%20%20%20%20%20%20%20%20%20%20%7B%7D%0A%20%20%20%20%20%20%20%20%20%20%20%20%29.addTo%28map_61ad0aba720143fd9f0a64f4c83a794f%29%3B%0A%20%20%20%20%20%20%20%20%0A%20%20%20%20%0A%20%20%20%20%20%20%20%20var%20popup_3172e98daa6b4aafbf5de69932c2bd8c%20%3D%20L.popup%28%7B%22maxWidth%22%3A%20%22100%25%22%7D%29%3B%0A%0A%20%20%20%20%20%20%20%20%0A%20%20%20%20%20%20%20%20%20%20%20%20var%20html_a69b9f637a2541c1a57fe6946a624bab%20%3D%20%24%28%60%3Cdiv%20id%3D%22html_a69b9f637a2541c1a57fe6946a624bab%22%20style%3D%22width%3A%20100.0%25%3B%20height%3A%20100.0%25%3B%22%3EMarker%20Popup%3C/div%3E%60%29%5B0%5D%3B%0A%20%20%20%20%20%20%20%20%20%20%20%20popup_3172e98daa6b4aafbf5de69932c2bd8c.setContent%28html_a69b9f637a2541c1a57fe6946a624bab%29%3B%0A%20%20%20%20%20%20%20%20%0A%0A%20%20%20%20%20%20%20%20marker_2956af4987214971b86bc1361e015f68.bindPopup%28popup_3172e98daa6b4aafbf5de69932c2bd8c%29%0A%20%20%20%20%20%20%20%20%3B%0A%0A%20%20%20%20%20%20%20%20%0A%20%20%20%20%0A%20%20%20%20%0A%20%20%20%20%20%20%20%20%20%20%20%20marker_2956af4987214971b86bc1361e015f68.bindTooltip%28%0A%20%20%20%20%20%20%20%20%20%20%20%20%20%20%20%20%60%3Cdiv%3E%0A%20%20%20%20%20%20%20%20%20%20%20%20%20%20%20%20%20%20%20%20%20%7B%27Location%27%3A%20%27Frederiksberg%2C%20Nordre%20Fasanvej%27%2C%20%27Rent%27%3A%2018.5%2C%20%27Rooms%27%3A%205.0%7D%0A%20%20%20%20%20%20%20%20%20%20%20%20%20%20%20%20%20%3C/div%3E%60%2C%0A%20%20%20%20%20%20%20%20%20%20%20%20%20%20%20%20%7B%22sticky%22%3A%20true%7D%0A%20%20%20%20%20%20%20%20%20%20%20%20%29%3B%0A%20%20%20%20%20%20%20%20%0A%20%20%20%20%0A%20%20%20%20%20%20%20%20%20%20%20%20var%20marker_8631c0811f3c41ccacae2fff773bdd97%20%3D%20L.marker%28%0A%20%20%20%20%20%20%20%20%20%20%20%20%20%20%20%20%5B55.661419%2C%2012.626561%5D%2C%0A%20%20%20%20%20%20%20%20%20%20%20%20%20%20%20%20%7B%7D%0A%20%20%20%20%20%20%20%20%20%20%20%20%29.addTo%28map_61ad0aba720143fd9f0a64f4c83a794f%29%3B%0A%20%20%20%20%20%20%20%20%0A%20%20%20%20%0A%20%20%20%20%20%20%20%20var%20popup_e23e34614ee64f5ba3a98bbafcfb8992%20%3D%20L.popup%28%7B%22maxWidth%22%3A%20%22100%25%22%7D%29%3B%0A%0A%20%20%20%20%20%20%20%20%0A%20%20%20%20%20%20%20%20%20%20%20%20var%20html_1d71a31afa654781a5348d8827dbe127%20%3D%20%24%28%60%3Cdiv%20id%3D%22html_1d71a31afa654781a5348d8827dbe127%22%20style%3D%22width%3A%20100.0%25%3B%20height%3A%20100.0%25%3B%22%3EMarker%20Popup%3C/div%3E%60%29%5B0%5D%3B%0A%20%20%20%20%20%20%20%20%20%20%20%20popup_e23e34614ee64f5ba3a98bbafcfb8992.setContent%28html_1d71a31afa654781a5348d8827dbe127%29%3B%0A%20%20%20%20%20%20%20%20%0A%0A%20%20%20%20%20%20%20%20marker_8631c0811f3c41ccacae2fff773bdd97.bindPopup%28popup_e23e34614ee64f5ba3a98bbafcfb8992%29%0A%20%20%20%20%20%20%20%20%3B%0A%0A%20%20%20%20%20%20%20%20%0A%20%20%20%20%0A%20%20%20%20%0A%20%20%20%20%20%20%20%20%20%20%20%20marker_8631c0811f3c41ccacae2fff773bdd97.bindTooltip%28%0A%20%20%20%20%20%20%20%20%20%20%20%20%20%20%20%20%60%3Cdiv%3E%0A%20%20%20%20%20%20%20%20%20%20%20%20%20%20%20%20%20%20%20%20%20%7B%27Location%27%3A%20%27K%C3%B8benhavn%20S%2C%20%C3%98resundsvej%27%2C%20%27Rent%27%3A%2013.9%2C%20%27Rooms%27%3A%204.0%7D%0A%20%20%20%20%20%20%20%20%20%20%20%20%20%20%20%20%20%3C/div%3E%60%2C%0A%20%20%20%20%20%20%20%20%20%20%20%20%20%20%20%20%7B%22sticky%22%3A%20true%7D%0A%20%20%20%20%20%20%20%20%20%20%20%20%29%3B%0A%20%20%20%20%20%20%20%20%0A%20%20%20%20%0A%20%20%20%20%20%20%20%20%20%20%20%20var%20marker_c7d795deaec8486880e3c89dc42ae02a%20%3D%20L.marker%28%0A%20%20%20%20%20%20%20%20%20%20%20%20%20%20%20%20%5B55.6627236%2C%2012.6022282%5D%2C%0A%20%20%20%20%20%20%20%20%20%20%20%20%20%20%20%20%7B%7D%0A%20%20%20%20%20%20%20%20%20%20%20%20%29.addTo%28map_61ad0aba720143fd9f0a64f4c83a794f%29%3B%0A%20%20%20%20%20%20%20%20%0A%20%20%20%20%0A%20%20%20%20%20%20%20%20var%20popup_1d2d706e717142e0bbd15f5cdbd279f8%20%3D%20L.popup%28%7B%22maxWidth%22%3A%20%22100%25%22%7D%29%3B%0A%0A%20%20%20%20%20%20%20%20%0A%20%20%20%20%20%20%20%20%20%20%20%20var%20html_9daa8c7788c14012a4b1add8335bd596%20%3D%20%24%28%60%3Cdiv%20id%3D%22html_9daa8c7788c14012a4b1add8335bd596%22%20style%3D%22width%3A%20100.0%25%3B%20height%3A%20100.0%25%3B%22%3EMarker%20Popup%3C/div%3E%60%29%5B0%5D%3B%0A%20%20%20%20%20%20%20%20%20%20%20%20popup_1d2d706e717142e0bbd15f5cdbd279f8.setContent%28html_9daa8c7788c14012a4b1add8335bd596%29%3B%0A%20%20%20%20%20%20%20%20%0A%0A%20%20%20%20%20%20%20%20marker_c7d795deaec8486880e3c89dc42ae02a.bindPopup%28popup_1d2d706e717142e0bbd15f5cdbd279f8%29%0A%20%20%20%20%20%20%20%20%3B%0A%0A%20%20%20%20%20%20%20%20%0A%20%20%20%20%0A%20%20%20%20%0A%20%20%20%20%20%20%20%20%20%20%20%20marker_c7d795deaec8486880e3c89dc42ae02a.bindTooltip%28%0A%20%20%20%20%20%20%20%20%20%20%20%20%20%20%20%20%60%3Cdiv%3E%0A%20%20%20%20%20%20%20%20%20%20%20%20%20%20%20%20%20%20%20%20%20%7B%27Location%27%3A%20%27K%C3%B8benhavn%20S%2C%20Amagerbrogade%27%2C%20%27Rent%27%3A%2018.838%2C%20%27Rooms%27%3A%205.0%7D%0A%20%20%20%20%20%20%20%20%20%20%20%20%20%20%20%20%20%3C/div%3E%60%2C%0A%20%20%20%20%20%20%20%20%20%20%20%20%20%20%20%20%7B%22sticky%22%3A%20true%7D%0A%20%20%20%20%20%20%20%20%20%20%20%20%29%3B%0A%20%20%20%20%20%20%20%20%0A%20%20%20%20%0A%20%20%20%20%20%20%20%20%20%20%20%20var%20marker_f21942f1d3304611a6984ce01da36c20%20%3D%20L.marker%28%0A%20%20%20%20%20%20%20%20%20%20%20%20%20%20%20%20%5B55.621947%2C%2012.570971%5D%2C%0A%20%20%20%20%20%20%20%20%20%20%20%20%20%20%20%20%7B%7D%0A%20%20%20%20%20%20%20%20%20%20%20%20%29.addTo%28map_61ad0aba720143fd9f0a64f4c83a794f%29%3B%0A%20%20%20%20%20%20%20%20%0A%20%20%20%20%0A%20%20%20%20%20%20%20%20var%20popup_5e91210197c24dd1b7b531d32eb11326%20%3D%20L.popup%28%7B%22maxWidth%22%3A%20%22100%25%22%7D%29%3B%0A%0A%20%20%20%20%20%20%20%20%0A%20%20%20%20%20%20%20%20%20%20%20%20var%20html_1995618a8f7543fb8e2f3f4c4e25d598%20%3D%20%24%28%60%3Cdiv%20id%3D%22html_1995618a8f7543fb8e2f3f4c4e25d598%22%20style%3D%22width%3A%20100.0%25%3B%20height%3A%20100.0%25%3B%22%3EMarker%20Popup%3C/div%3E%60%29%5B0%5D%3B%0A%20%20%20%20%20%20%20%20%20%20%20%20popup_5e91210197c24dd1b7b531d32eb11326.setContent%28html_1995618a8f7543fb8e2f3f4c4e25d598%29%3B%0A%20%20%20%20%20%20%20%20%0A%0A%20%20%20%20%20%20%20%20marker_f21942f1d3304611a6984ce01da36c20.bindPopup%28popup_5e91210197c24dd1b7b531d32eb11326%29%0A%20%20%20%20%20%20%20%20%3B%0A%0A%20%20%20%20%20%20%20%20%0A%20%20%20%20%0A%20%20%20%20%0A%20%20%20%20%20%20%20%20%20%20%20%20marker_f21942f1d3304611a6984ce01da36c20.bindTooltip%28%0A%20%20%20%20%20%20%20%20%20%20%20%20%20%20%20%20%60%3Cdiv%3E%0A%20%20%20%20%20%20%20%20%20%20%20%20%20%20%20%20%20%20%20%20%20%7B%27Location%27%3A%20%27K%C3%B8benhavn%20S%2C%20Else%20Alfelts%20Vej%27%2C%20%27Rent%27%3A%2014.2%2C%20%27Rooms%27%3A%204.0%7D%0A%20%20%20%20%20%20%20%20%20%20%20%20%20%20%20%20%20%3C/div%3E%60%2C%0A%20%20%20%20%20%20%20%20%20%20%20%20%20%20%20%20%7B%22sticky%22%3A%20true%7D%0A%20%20%20%20%20%20%20%20%20%20%20%20%29%3B%0A%20%20%20%20%20%20%20%20%0A%20%20%20%20%0A%20%20%20%20%20%20%20%20%20%20%20%20var%20marker_8729ed477ce4416da6b6ce4e7922bb6b%20%3D%20L.marker%28%0A%20%20%20%20%20%20%20%20%20%20%20%20%20%20%20%20%5B55.6519519%2C%2012.6153995%5D%2C%0A%20%20%20%20%20%20%20%20%20%20%20%20%20%20%20%20%7B%7D%0A%20%20%20%20%20%20%20%20%20%20%20%20%29.addTo%28map_61ad0aba720143fd9f0a64f4c83a794f%29%3B%0A%20%20%20%20%20%20%20%20%0A%20%20%20%20%0A%20%20%20%20%20%20%20%20var%20popup_1e87c2399cd84110ad433eae5451a9da%20%3D%20L.popup%28%7B%22maxWidth%22%3A%20%22100%25%22%7D%29%3B%0A%0A%20%20%20%20%20%20%20%20%0A%20%20%20%20%20%20%20%20%20%20%20%20var%20html_b1c9de1987a045ec922d1b128bab152f%20%3D%20%24%28%60%3Cdiv%20id%3D%22html_b1c9de1987a045ec922d1b128bab152f%22%20style%3D%22width%3A%20100.0%25%3B%20height%3A%20100.0%25%3B%22%3EMarker%20Popup%3C/div%3E%60%29%5B0%5D%3B%0A%20%20%20%20%20%20%20%20%20%20%20%20popup_1e87c2399cd84110ad433eae5451a9da.setContent%28html_b1c9de1987a045ec922d1b128bab152f%29%3B%0A%20%20%20%20%20%20%20%20%0A%0A%20%20%20%20%20%20%20%20marker_8729ed477ce4416da6b6ce4e7922bb6b.bindPopup%28popup_1e87c2399cd84110ad433eae5451a9da%29%0A%20%20%20%20%20%20%20%20%3B%0A%0A%20%20%20%20%20%20%20%20%0A%20%20%20%20%0A%20%20%20%20%0A%20%20%20%20%20%20%20%20%20%20%20%20marker_8729ed477ce4416da6b6ce4e7922bb6b.bindTooltip%28%0A%20%20%20%20%20%20%20%20%20%20%20%20%20%20%20%20%60%3Cdiv%3E%0A%20%20%20%20%20%20%20%20%20%20%20%20%20%20%20%20%20%20%20%20%20%7B%27Location%27%3A%20%27K%C3%B8benhavn%20S%2C%20Gr%C3%A6kenlandsvej%27%2C%20%27Rent%27%3A%204.8%2C%20%27Rooms%27%3A%201.0%7D%0A%20%20%20%20%20%20%20%20%20%20%20%20%20%20%20%20%20%3C/div%3E%60%2C%0A%20%20%20%20%20%20%20%20%20%20%20%20%20%20%20%20%7B%22sticky%22%3A%20true%7D%0A%20%20%20%20%20%20%20%20%20%20%20%20%29%3B%0A%20%20%20%20%20%20%20%20%0A%20%20%20%20%0A%20%20%20%20%20%20%20%20%20%20%20%20var%20marker_1e2a6aba0cf44c38b94062abc8d6a739%20%3D%20L.marker%28%0A%20%20%20%20%20%20%20%20%20%20%20%20%20%20%20%20%5B55.6848713%2C%2012.5401394%5D%2C%0A%20%20%20%20%20%20%20%20%20%20%20%20%20%20%20%20%7B%7D%0A%20%20%20%20%20%20%20%20%20%20%20%20%29.addTo%28map_61ad0aba720143fd9f0a64f4c83a794f%29%3B%0A%20%20%20%20%20%20%20%20%0A%20%20%20%20%0A%20%20%20%20%20%20%20%20var%20popup_f9eeff19938e48669f3aaa8023bdbb02%20%3D%20L.popup%28%7B%22maxWidth%22%3A%20%22100%25%22%7D%29%3B%0A%0A%20%20%20%20%20%20%20%20%0A%20%20%20%20%20%20%20%20%20%20%20%20var%20html_05f822644f434e2a837d87ec2efe2247%20%3D%20%24%28%60%3Cdiv%20id%3D%22html_05f822644f434e2a837d87ec2efe2247%22%20style%3D%22width%3A%20100.0%25%3B%20height%3A%20100.0%25%3B%22%3EMarker%20Popup%3C/div%3E%60%29%5B0%5D%3B%0A%20%20%20%20%20%20%20%20%20%20%20%20popup_f9eeff19938e48669f3aaa8023bdbb02.setContent%28html_05f822644f434e2a837d87ec2efe2247%29%3B%0A%20%20%20%20%20%20%20%20%0A%0A%20%20%20%20%20%20%20%20marker_1e2a6aba0cf44c38b94062abc8d6a739.bindPopup%28popup_f9eeff19938e48669f3aaa8023bdbb02%29%0A%20%20%20%20%20%20%20%20%3B%0A%0A%20%20%20%20%20%20%20%20%0A%20%20%20%20%0A%20%20%20%20%0A%20%20%20%20%20%20%20%20%20%20%20%20marker_1e2a6aba0cf44c38b94062abc8d6a739.bindTooltip%28%0A%20%20%20%20%20%20%20%20%20%20%20%20%20%20%20%20%60%3Cdiv%3E%0A%20%20%20%20%20%20%20%20%20%20%20%20%20%20%20%20%20%20%20%20%20%7B%27Location%27%3A%20%27Frederiksberg%20C%2C%20Hostrups%20Have%27%2C%20%27Rent%27%3A%2014.875%2C%20%27Rooms%27%3A%204.0%7D%0A%20%20%20%20%20%20%20%20%20%20%20%20%20%20%20%20%20%3C/div%3E%60%2C%0A%20%20%20%20%20%20%20%20%20%20%20%20%20%20%20%20%7B%22sticky%22%3A%20true%7D%0A%20%20%20%20%20%20%20%20%20%20%20%20%29%3B%0A%20%20%20%20%20%20%20%20%0A%20%20%20%20%0A%20%20%20%20%20%20%20%20%20%20%20%20var%20marker_d5f77d241ea84d8484b73bd3acb7ad89%20%3D%20L.marker%28%0A%20%20%20%20%20%20%20%20%20%20%20%20%20%20%20%20%5B55.6860507%2C%2012.5329471%5D%2C%0A%20%20%20%20%20%20%20%20%20%20%20%20%20%20%20%20%7B%7D%0A%20%20%20%20%20%20%20%20%20%20%20%20%29.addTo%28map_61ad0aba720143fd9f0a64f4c83a794f%29%3B%0A%20%20%20%20%20%20%20%20%0A%20%20%20%20%0A%20%20%20%20%20%20%20%20var%20popup_f20363c15a3048339d3991a9f4a05744%20%3D%20L.popup%28%7B%22maxWidth%22%3A%20%22100%25%22%7D%29%3B%0A%0A%20%20%20%20%20%20%20%20%0A%20%20%20%20%20%20%20%20%20%20%20%20var%20html_b7fb26ad933a45f784b9c24ee233422d%20%3D%20%24%28%60%3Cdiv%20id%3D%22html_b7fb26ad933a45f784b9c24ee233422d%22%20style%3D%22width%3A%20100.0%25%3B%20height%3A%20100.0%25%3B%22%3EMarker%20Popup%3C/div%3E%60%29%5B0%5D%3B%0A%20%20%20%20%20%20%20%20%20%20%20%20popup_f20363c15a3048339d3991a9f4a05744.setContent%28html_b7fb26ad933a45f784b9c24ee233422d%29%3B%0A%20%20%20%20%20%20%20%20%0A%0A%20%20%20%20%20%20%20%20marker_d5f77d241ea84d8484b73bd3acb7ad89.bindPopup%28popup_f20363c15a3048339d3991a9f4a05744%29%0A%20%20%20%20%20%20%20%20%3B%0A%0A%20%20%20%20%20%20%20%20%0A%20%20%20%20%0A%20%20%20%20%0A%20%20%20%20%20%20%20%20%20%20%20%20marker_d5f77d241ea84d8484b73bd3acb7ad89.bindTooltip%28%0A%20%20%20%20%20%20%20%20%20%20%20%20%20%20%20%20%60%3Cdiv%3E%0A%20%20%20%20%20%20%20%20%20%20%20%20%20%20%20%20%20%20%20%20%20%7B%27Location%27%3A%20%27Frederiksberg%2C%20Aksel%20M%C3%B8llers%20Have%27%2C%20%27Rent%27%3A%2015.0%2C%20%27Rooms%27%3A%204.0%7D%0A%20%20%20%20%20%20%20%20%20%20%20%20%20%20%20%20%20%3C/div%3E%60%2C%0A%20%20%20%20%20%20%20%20%20%20%20%20%20%20%20%20%7B%22sticky%22%3A%20true%7D%0A%20%20%20%20%20%20%20%20%20%20%20%20%29%3B%0A%20%20%20%20%20%20%20%20%0A%20%20%20%20%0A%20%20%20%20%20%20%20%20%20%20%20%20var%20marker_2695c88bc878494a9b28ad15122268b1%20%3D%20L.marker%28%0A%20%20%20%20%20%20%20%20%20%20%20%20%20%20%20%20%5B55.668553%2C%2012.5511936%5D%2C%0A%20%20%20%20%20%20%20%20%20%20%20%20%20%20%20%20%7B%7D%0A%20%20%20%20%20%20%20%20%20%20%20%20%29.addTo%28map_61ad0aba720143fd9f0a64f4c83a794f%29%3B%0A%20%20%20%20%20%20%20%20%0A%20%20%20%20%0A%20%20%20%20%20%20%20%20var%20popup_ddb6f9685da1432c9665014a4babfd70%20%3D%20L.popup%28%7B%22maxWidth%22%3A%20%22100%25%22%7D%29%3B%0A%0A%20%20%20%20%20%20%20%20%0A%20%20%20%20%20%20%20%20%20%20%20%20var%20html_e6ccc346db6242caad43d9f7e357557e%20%3D%20%24%28%60%3Cdiv%20id%3D%22html_e6ccc346db6242caad43d9f7e357557e%22%20style%3D%22width%3A%20100.0%25%3B%20height%3A%20100.0%25%3B%22%3EMarker%20Popup%3C/div%3E%60%29%5B0%5D%3B%0A%20%20%20%20%20%20%20%20%20%20%20%20popup_ddb6f9685da1432c9665014a4babfd70.setContent%28html_e6ccc346db6242caad43d9f7e357557e%29%3B%0A%20%20%20%20%20%20%20%20%0A%0A%20%20%20%20%20%20%20%20marker_2695c88bc878494a9b28ad15122268b1.bindPopup%28popup_ddb6f9685da1432c9665014a4babfd70%29%0A%20%20%20%20%20%20%20%20%3B%0A%0A%20%20%20%20%20%20%20%20%0A%20%20%20%20%0A%20%20%20%20%0A%20%20%20%20%20%20%20%20%20%20%20%20marker_2695c88bc878494a9b28ad15122268b1.bindTooltip%28%0A%20%20%20%20%20%20%20%20%20%20%20%20%20%20%20%20%60%3Cdiv%3E%0A%20%20%20%20%20%20%20%20%20%20%20%20%20%20%20%20%20%20%20%20%20%7B%27Location%27%3A%20%27K%C3%B8benhavn%20V%2C%20Istedgade%27%2C%20%27Rent%27%3A%205.0%2C%20%27Rooms%27%3A%201.0%7D%0A%20%20%20%20%20%20%20%20%20%20%20%20%20%20%20%20%20%3C/div%3E%60%2C%0A%20%20%20%20%20%20%20%20%20%20%20%20%20%20%20%20%7B%22sticky%22%3A%20true%7D%0A%20%20%20%20%20%20%20%20%20%20%20%20%29%3B%0A%20%20%20%20%20%20%20%20%0A%20%20%20%20%0A%20%20%20%20%20%20%20%20%20%20%20%20var%20marker_f753cbb0ed704e4d9463ac8468758f1d%20%3D%20L.marker%28%0A%20%20%20%20%20%20%20%20%20%20%20%20%20%20%20%20%5B55.6968187%2C%2012.590396%5D%2C%0A%20%20%20%20%20%20%20%20%20%20%20%20%20%20%20%20%7B%7D%0A%20%20%20%20%20%20%20%20%20%20%20%20%29.addTo%28map_61ad0aba720143fd9f0a64f4c83a794f%29%3B%0A%20%20%20%20%20%20%20%20%0A%20%20%20%20%0A%20%20%20%20%20%20%20%20var%20popup_d37b4bddc9964ad6a706ab5b6397f3da%20%3D%20L.popup%28%7B%22maxWidth%22%3A%20%22100%25%22%7D%29%3B%0A%0A%20%20%20%20%20%20%20%20%0A%20%20%20%20%20%20%20%20%20%20%20%20var%20html_2746e98aa99743eda0c4d6246860854f%20%3D%20%24%28%60%3Cdiv%20id%3D%22html_2746e98aa99743eda0c4d6246860854f%22%20style%3D%22width%3A%20100.0%25%3B%20height%3A%20100.0%25%3B%22%3EMarker%20Popup%3C/div%3E%60%29%5B0%5D%3B%0A%20%20%20%20%20%20%20%20%20%20%20%20popup_d37b4bddc9964ad6a706ab5b6397f3da.setContent%28html_2746e98aa99743eda0c4d6246860854f%29%3B%0A%20%20%20%20%20%20%20%20%0A%0A%20%20%20%20%20%20%20%20marker_f753cbb0ed704e4d9463ac8468758f1d.bindPopup%28popup_d37b4bddc9964ad6a706ab5b6397f3da%29%0A%20%20%20%20%20%20%20%20%3B%0A%0A%20%20%20%20%20%20%20%20%0A%20%20%20%20%0A%20%20%20%20%0A%20%20%20%20%20%20%20%20%20%20%20%20marker_f753cbb0ed704e4d9463ac8468758f1d.bindTooltip%28%0A%20%20%20%20%20%20%20%20%20%20%20%20%20%20%20%20%60%3Cdiv%3E%0A%20%20%20%20%20%20%20%20%20%20%20%20%20%20%20%20%20%20%20%20%20%7B%27Location%27%3A%20%27K%C3%B8benhavn%20%C3%98%2C%20Strandboulevarden%27%2C%20%27Rent%27%3A%205.0%2C%20%27Rooms%27%3A%201.0%7D%0A%20%20%20%20%20%20%20%20%20%20%20%20%20%20%20%20%20%3C/div%3E%60%2C%0A%20%20%20%20%20%20%20%20%20%20%20%20%20%20%20%20%7B%22sticky%22%3A%20true%7D%0A%20%20%20%20%20%20%20%20%20%20%20%20%29%3B%0A%20%20%20%20%20%20%20%20%0A%20%20%20%20%0A%20%20%20%20%20%20%20%20%20%20%20%20var%20marker_b949f25c132d42569c67b562f0c838d9%20%3D%20L.marker%28%0A%20%20%20%20%20%20%20%20%20%20%20%20%20%20%20%20%5B55.6693862%2C%2012.5539985%5D%2C%0A%20%20%20%20%20%20%20%20%20%20%20%20%20%20%20%20%7B%7D%0A%20%20%20%20%20%20%20%20%20%20%20%20%29.addTo%28map_61ad0aba720143fd9f0a64f4c83a794f%29%3B%0A%20%20%20%20%20%20%20%20%0A%20%20%20%20%0A%20%20%20%20%20%20%20%20var%20popup_361ee316790b4e11b1927e9b70a48995%20%3D%20L.popup%28%7B%22maxWidth%22%3A%20%22100%25%22%7D%29%3B%0A%0A%20%20%20%20%20%20%20%20%0A%20%20%20%20%20%20%20%20%20%20%20%20var%20html_19dd90fad170482eb59b468c36817eff%20%3D%20%24%28%60%3Cdiv%20id%3D%22html_19dd90fad170482eb59b468c36817eff%22%20style%3D%22width%3A%20100.0%25%3B%20height%3A%20100.0%25%3B%22%3EMarker%20Popup%3C/div%3E%60%29%5B0%5D%3B%0A%20%20%20%20%20%20%20%20%20%20%20%20popup_361ee316790b4e11b1927e9b70a48995.setContent%28html_19dd90fad170482eb59b468c36817eff%29%3B%0A%20%20%20%20%20%20%20%20%0A%0A%20%20%20%20%20%20%20%20marker_b949f25c132d42569c67b562f0c838d9.bindPopup%28popup_361ee316790b4e11b1927e9b70a48995%29%0A%20%20%20%20%20%20%20%20%3B%0A%0A%20%20%20%20%20%20%20%20%0A%20%20%20%20%0A%20%20%20%20%0A%20%20%20%20%20%20%20%20%20%20%20%20marker_b949f25c132d42569c67b562f0c838d9.bindTooltip%28%0A%20%20%20%20%20%20%20%20%20%20%20%20%20%20%20%20%60%3Cdiv%3E%0A%20%20%20%20%20%20%20%20%20%20%20%20%20%20%20%20%20%20%20%20%20%7B%27Location%27%3A%20%27K%C3%B8benhavn%20V%2C%20Skydebanegade%27%2C%20%27Rent%27%3A%2015.0%2C%20%27Rooms%27%3A%204.0%7D%0A%20%20%20%20%20%20%20%20%20%20%20%20%20%20%20%20%20%3C/div%3E%60%2C%0A%20%20%20%20%20%20%20%20%20%20%20%20%20%20%20%20%7B%22sticky%22%3A%20true%7D%0A%20%20%20%20%20%20%20%20%20%20%20%20%29%3B%0A%20%20%20%20%20%20%20%20%0A%20%20%20%20%0A%20%20%20%20%20%20%20%20%20%20%20%20var%20marker_2667acb08bd34161822cf7ad49a5da28%20%3D%20L.marker%28%0A%20%20%20%20%20%20%20%20%20%20%20%20%20%20%20%20%5B55.621947%2C%2012.570971%5D%2C%0A%20%20%20%20%20%20%20%20%20%20%20%20%20%20%20%20%7B%7D%0A%20%20%20%20%20%20%20%20%20%20%20%20%29.addTo%28map_61ad0aba720143fd9f0a64f4c83a794f%29%3B%0A%20%20%20%20%20%20%20%20%0A%20%20%20%20%0A%20%20%20%20%20%20%20%20var%20popup_a0f17c598230499c941ec3e0e8a11eb7%20%3D%20L.popup%28%7B%22maxWidth%22%3A%20%22100%25%22%7D%29%3B%0A%0A%20%20%20%20%20%20%20%20%0A%20%20%20%20%20%20%20%20%20%20%20%20var%20html_6d15612095a7498cadc1597875ee4b1e%20%3D%20%24%28%60%3Cdiv%20id%3D%22html_6d15612095a7498cadc1597875ee4b1e%22%20style%3D%22width%3A%20100.0%25%3B%20height%3A%20100.0%25%3B%22%3EMarker%20Popup%3C/div%3E%60%29%5B0%5D%3B%0A%20%20%20%20%20%20%20%20%20%20%20%20popup_a0f17c598230499c941ec3e0e8a11eb7.setContent%28html_6d15612095a7498cadc1597875ee4b1e%29%3B%0A%20%20%20%20%20%20%20%20%0A%0A%20%20%20%20%20%20%20%20marker_2667acb08bd34161822cf7ad49a5da28.bindPopup%28popup_a0f17c598230499c941ec3e0e8a11eb7%29%0A%20%20%20%20%20%20%20%20%3B%0A%0A%20%20%20%20%20%20%20%20%0A%20%20%20%20%0A%20%20%20%20%0A%20%20%20%20%20%20%20%20%20%20%20%20marker_2667acb08bd34161822cf7ad49a5da28.bindTooltip%28%0A%20%20%20%20%20%20%20%20%20%20%20%20%20%20%20%20%60%3Cdiv%3E%0A%20%20%20%20%20%20%20%20%20%20%20%20%20%20%20%20%20%20%20%20%20%7B%27Location%27%3A%20%27K%C3%B8benhavn%20S%2C%20Else%20Alfelts%20Vej%27%2C%20%27Rent%27%3A%205.0%2C%20%27Rooms%27%3A%201.0%7D%0A%20%20%20%20%20%20%20%20%20%20%20%20%20%20%20%20%20%3C/div%3E%60%2C%0A%20%20%20%20%20%20%20%20%20%20%20%20%20%20%20%20%7B%22sticky%22%3A%20true%7D%0A%20%20%20%20%20%20%20%20%20%20%20%20%29%3B%0A%20%20%20%20%20%20%20%20%0A%20%20%20%20%0A%20%20%20%20%20%20%20%20%20%20%20%20var%20marker_2c027547c68a40c6b071f4db3523e6b1%20%3D%20L.marker%28%0A%20%20%20%20%20%20%20%20%20%20%20%20%20%20%20%20%5B55.650587%2C%2012.6173744%5D%2C%0A%20%20%20%20%20%20%20%20%20%20%20%20%20%20%20%20%7B%7D%0A%20%20%20%20%20%20%20%20%20%20%20%20%29.addTo%28map_61ad0aba720143fd9f0a64f4c83a794f%29%3B%0A%20%20%20%20%20%20%20%20%0A%20%20%20%20%0A%20%20%20%20%20%20%20%20var%20popup_12baf1b4db6f43839b6503d94baf72c3%20%3D%20L.popup%28%7B%22maxWidth%22%3A%20%22100%25%22%7D%29%3B%0A%0A%20%20%20%20%20%20%20%20%0A%20%20%20%20%20%20%20%20%20%20%20%20var%20html_0442bf896d64450698f4eee45512d630%20%3D%20%24%28%60%3Cdiv%20id%3D%22html_0442bf896d64450698f4eee45512d630%22%20style%3D%22width%3A%20100.0%25%3B%20height%3A%20100.0%25%3B%22%3EMarker%20Popup%3C/div%3E%60%29%5B0%5D%3B%0A%20%20%20%20%20%20%20%20%20%20%20%20popup_12baf1b4db6f43839b6503d94baf72c3.setContent%28html_0442bf896d64450698f4eee45512d630%29%3B%0A%20%20%20%20%20%20%20%20%0A%0A%20%20%20%20%20%20%20%20marker_2c027547c68a40c6b071f4db3523e6b1.bindPopup%28popup_12baf1b4db6f43839b6503d94baf72c3%29%0A%20%20%20%20%20%20%20%20%3B%0A%0A%20%20%20%20%20%20%20%20%0A%20%20%20%20%0A%20%20%20%20%0A%20%20%20%20%20%20%20%20%20%20%20%20marker_2c027547c68a40c6b071f4db3523e6b1.bindTooltip%28%0A%20%20%20%20%20%20%20%20%20%20%20%20%20%20%20%20%60%3Cdiv%3E%0A%20%20%20%20%20%20%20%20%20%20%20%20%20%20%20%20%20%20%20%20%20%7B%27Location%27%3A%20%27K%C3%B8benhavn%20S%2C%20Biens%20All%C3%A9%27%2C%20%27Rent%27%3A%205.0%2C%20%27Rooms%27%3A%201.0%7D%0A%20%20%20%20%20%20%20%20%20%20%20%20%20%20%20%20%20%3C/div%3E%60%2C%0A%20%20%20%20%20%20%20%20%20%20%20%20%20%20%20%20%7B%22sticky%22%3A%20true%7D%0A%20%20%20%20%20%20%20%20%20%20%20%20%29%3B%0A%20%20%20%20%20%20%20%20%0A%20%20%20%20%0A%20%20%20%20%20%20%20%20%20%20%20%20var%20marker_eeff074f37f9432dbb2f7867d10ab2dd%20%3D%20L.marker%28%0A%20%20%20%20%20%20%20%20%20%20%20%20%20%20%20%20%5B55.6519217%2C%2012.5917239%5D%2C%0A%20%20%20%20%20%20%20%20%20%20%20%20%20%20%20%20%7B%7D%0A%20%20%20%20%20%20%20%20%20%20%20%20%29.addTo%28map_61ad0aba720143fd9f0a64f4c83a794f%29%3B%0A%20%20%20%20%20%20%20%20%0A%20%20%20%20%0A%20%20%20%20%20%20%20%20var%20popup_8bd3562ab5e344f493b4e76df6c547c6%20%3D%20L.popup%28%7B%22maxWidth%22%3A%20%22100%25%22%7D%29%3B%0A%0A%20%20%20%20%20%20%20%20%0A%20%20%20%20%20%20%20%20%20%20%20%20var%20html_43008f72d2c746a8ba1d07263f1f7c01%20%3D%20%24%28%60%3Cdiv%20id%3D%22html_43008f72d2c746a8ba1d07263f1f7c01%22%20style%3D%22width%3A%20100.0%25%3B%20height%3A%20100.0%25%3B%22%3EMarker%20Popup%3C/div%3E%60%29%5B0%5D%3B%0A%20%20%20%20%20%20%20%20%20%20%20%20popup_8bd3562ab5e344f493b4e76df6c547c6.setContent%28html_43008f72d2c746a8ba1d07263f1f7c01%29%3B%0A%20%20%20%20%20%20%20%20%0A%0A%20%20%20%20%20%20%20%20marker_eeff074f37f9432dbb2f7867d10ab2dd.bindPopup%28popup_8bd3562ab5e344f493b4e76df6c547c6%29%0A%20%20%20%20%20%20%20%20%3B%0A%0A%20%20%20%20%20%20%20%20%0A%20%20%20%20%0A%20%20%20%20%0A%20%20%20%20%20%20%20%20%20%20%20%20marker_eeff074f37f9432dbb2f7867d10ab2dd.bindTooltip%28%0A%20%20%20%20%20%20%20%20%20%20%20%20%20%20%20%20%60%3Cdiv%3E%0A%20%20%20%20%20%20%20%20%20%20%20%20%20%20%20%20%20%20%20%20%20%7B%27Location%27%3A%20%27K%C3%B8benhavn%20S%2C%20Oldensti%27%2C%20%27Rent%27%3A%2020.0%2C%20%27Rooms%27%3A%205.0%7D%0A%20%20%20%20%20%20%20%20%20%20%20%20%20%20%20%20%20%3C/div%3E%60%2C%0A%20%20%20%20%20%20%20%20%20%20%20%20%20%20%20%20%7B%22sticky%22%3A%20true%7D%0A%20%20%20%20%20%20%20%20%20%20%20%20%29%3B%0A%20%20%20%20%20%20%20%20%0A%20%20%20%20%0A%20%20%20%20%20%20%20%20%20%20%20%20var%20marker_6fda798d464d43c286546b02493712d0%20%3D%20L.marker%28%0A%20%20%20%20%20%20%20%20%20%20%20%20%20%20%20%20%5B55.623461%2C%2012.571163%5D%2C%0A%20%20%20%20%20%20%20%20%20%20%20%20%20%20%20%20%7B%7D%0A%20%20%20%20%20%20%20%20%20%20%20%20%29.addTo%28map_61ad0aba720143fd9f0a64f4c83a794f%29%3B%0A%20%20%20%20%20%20%20%20%0A%20%20%20%20%0A%20%20%20%20%20%20%20%20var%20popup_b887bd0aa68d4038b81e2b58107aa589%20%3D%20L.popup%28%7B%22maxWidth%22%3A%20%22100%25%22%7D%29%3B%0A%0A%20%20%20%20%20%20%20%20%0A%20%20%20%20%20%20%20%20%20%20%20%20var%20html_72226317a8cc452bb6df89e418f94e9e%20%3D%20%24%28%60%3Cdiv%20id%3D%22html_72226317a8cc452bb6df89e418f94e9e%22%20style%3D%22width%3A%20100.0%25%3B%20height%3A%20100.0%25%3B%22%3EMarker%20Popup%3C/div%3E%60%29%5B0%5D%3B%0A%20%20%20%20%20%20%20%20%20%20%20%20popup_b887bd0aa68d4038b81e2b58107aa589.setContent%28html_72226317a8cc452bb6df89e418f94e9e%29%3B%0A%20%20%20%20%20%20%20%20%0A%0A%20%20%20%20%20%20%20%20marker_6fda798d464d43c286546b02493712d0.bindPopup%28popup_b887bd0aa68d4038b81e2b58107aa589%29%0A%20%20%20%20%20%20%20%20%3B%0A%0A%20%20%20%20%20%20%20%20%0A%20%20%20%20%0A%20%20%20%20%0A%20%20%20%20%20%20%20%20%20%20%20%20marker_6fda798d464d43c286546b02493712d0.bindTooltip%28%0A%20%20%20%20%20%20%20%20%20%20%20%20%20%20%20%20%60%3Cdiv%3E%0A%20%20%20%20%20%20%20%20%20%20%20%20%20%20%20%20%20%20%20%20%20%7B%27Location%27%3A%20%27K%C3%B8benhavn%20S%2C%20Richard%20Mortensens%20Vej%27%2C%20%27Rent%27%3A%2015.7%2C%20%27Rooms%27%3A%204.0%7D%0A%20%20%20%20%20%20%20%20%20%20%20%20%20%20%20%20%20%3C/div%3E%60%2C%0A%20%20%20%20%20%20%20%20%20%20%20%20%20%20%20%20%7B%22sticky%22%3A%20true%7D%0A%20%20%20%20%20%20%20%20%20%20%20%20%29%3B%0A%20%20%20%20%20%20%20%20%0A%20%20%20%20%0A%20%20%20%20%20%20%20%20%20%20%20%20var%20marker_e6309671df2e40ad991ca8f085c3c55e%20%3D%20L.marker%28%0A%20%20%20%20%20%20%20%20%20%20%20%20%20%20%20%20%5B55.6648276%2C%2012.6107957%5D%2C%0A%20%20%20%20%20%20%20%20%20%20%20%20%20%20%20%20%7B%7D%0A%20%20%20%20%20%20%20%20%20%20%20%20%29.addTo%28map_61ad0aba720143fd9f0a64f4c83a794f%29%3B%0A%20%20%20%20%20%20%20%20%0A%20%20%20%20%0A%20%20%20%20%20%20%20%20var%20popup_57f95d06d2b543b8a93d7309f2a39d18%20%3D%20L.popup%28%7B%22maxWidth%22%3A%20%22100%25%22%7D%29%3B%0A%0A%20%20%20%20%20%20%20%20%0A%20%20%20%20%20%20%20%20%20%20%20%20var%20html_1206ce254209448b9865004ae2c365f0%20%3D%20%24%28%60%3Cdiv%20id%3D%22html_1206ce254209448b9865004ae2c365f0%22%20style%3D%22width%3A%20100.0%25%3B%20height%3A%20100.0%25%3B%22%3EMarker%20Popup%3C/div%3E%60%29%5B0%5D%3B%0A%20%20%20%20%20%20%20%20%20%20%20%20popup_57f95d06d2b543b8a93d7309f2a39d18.setContent%28html_1206ce254209448b9865004ae2c365f0%29%3B%0A%20%20%20%20%20%20%20%20%0A%0A%20%20%20%20%20%20%20%20marker_e6309671df2e40ad991ca8f085c3c55e.bindPopup%28popup_57f95d06d2b543b8a93d7309f2a39d18%29%0A%20%20%20%20%20%20%20%20%3B%0A%0A%20%20%20%20%20%20%20%20%0A%20%20%20%20%0A%20%20%20%20%0A%20%20%20%20%20%20%20%20%20%20%20%20marker_e6309671df2e40ad991ca8f085c3c55e.bindTooltip%28%0A%20%20%20%20%20%20%20%20%20%20%20%20%20%20%20%20%60%3Cdiv%3E%0A%20%20%20%20%20%20%20%20%20%20%20%20%20%20%20%20%20%20%20%20%20%7B%27Location%27%3A%20%27K%C3%B8benhavn%20S%2C%20Oldenborggade%27%2C%20%27Rent%27%3A%2015.8%2C%20%27Rooms%27%3A%204.0%7D%0A%20%20%20%20%20%20%20%20%20%20%20%20%20%20%20%20%20%3C/div%3E%60%2C%0A%20%20%20%20%20%20%20%20%20%20%20%20%20%20%20%20%7B%22sticky%22%3A%20true%7D%0A%20%20%20%20%20%20%20%20%20%20%20%20%29%3B%0A%20%20%20%20%20%20%20%20%0A%20%20%20%20%0A%20%20%20%20%20%20%20%20%20%20%20%20var%20marker_6f9a44f80692467385b22562538e0373%20%3D%20L.marker%28%0A%20%20%20%20%20%20%20%20%20%20%20%20%20%20%20%20%5B55.675311%2C%2012.565747%5D%2C%0A%20%20%20%20%20%20%20%20%20%20%20%20%20%20%20%20%7B%7D%0A%20%20%20%20%20%20%20%20%20%20%20%20%29.addTo%28map_61ad0aba720143fd9f0a64f4c83a794f%29%3B%0A%20%20%20%20%20%20%20%20%0A%20%20%20%20%0A%20%20%20%20%20%20%20%20var%20popup_92ce4b43918a41e4b52074e6ab75592b%20%3D%20L.popup%28%7B%22maxWidth%22%3A%20%22100%25%22%7D%29%3B%0A%0A%20%20%20%20%20%20%20%20%0A%20%20%20%20%20%20%20%20%20%20%20%20var%20html_a85279c05b1f49f1a7a97c677f56a41b%20%3D%20%24%28%60%3Cdiv%20id%3D%22html_a85279c05b1f49f1a7a97c677f56a41b%22%20style%3D%22width%3A%20100.0%25%3B%20height%3A%20100.0%25%3B%22%3EMarker%20Popup%3C/div%3E%60%29%5B0%5D%3B%0A%20%20%20%20%20%20%20%20%20%20%20%20popup_92ce4b43918a41e4b52074e6ab75592b.setContent%28html_a85279c05b1f49f1a7a97c677f56a41b%29%3B%0A%20%20%20%20%20%20%20%20%0A%0A%20%20%20%20%20%20%20%20marker_6f9a44f80692467385b22562538e0373.bindPopup%28popup_92ce4b43918a41e4b52074e6ab75592b%29%0A%20%20%20%20%20%20%20%20%3B%0A%0A%20%20%20%20%20%20%20%20%0A%20%20%20%20%0A%20%20%20%20%0A%20%20%20%20%20%20%20%20%20%20%20%20marker_6f9a44f80692467385b22562538e0373.bindTooltip%28%0A%20%20%20%20%20%20%20%20%20%20%20%20%20%20%20%20%60%3Cdiv%3E%0A%20%20%20%20%20%20%20%20%20%20%20%20%20%20%20%20%20%20%20%20%20%7B%27Location%27%3A%20%27K%C3%B8benhavn%20V%2C%20Vesterbrogade%27%2C%20%27Rent%27%3A%205.3%2C%20%27Rooms%27%3A%201.0%7D%0A%20%20%20%20%20%20%20%20%20%20%20%20%20%20%20%20%20%3C/div%3E%60%2C%0A%20%20%20%20%20%20%20%20%20%20%20%20%20%20%20%20%7B%22sticky%22%3A%20true%7D%0A%20%20%20%20%20%20%20%20%20%20%20%20%29%3B%0A%20%20%20%20%20%20%20%20%0A%20%20%20%20%0A%20%20%20%20%20%20%20%20%20%20%20%20var%20marker_0f77962189554f4782f6042fea5cb683%20%3D%20L.marker%28%0A%20%20%20%20%20%20%20%20%20%20%20%20%20%20%20%20%5B55.6602652%2C%2012.6197731%5D%2C%0A%20%20%20%20%20%20%20%20%20%20%20%20%20%20%20%20%7B%7D%0A%20%20%20%20%20%20%20%20%20%20%20%20%29.addTo%28map_61ad0aba720143fd9f0a64f4c83a794f%29%3B%0A%20%20%20%20%20%20%20%20%0A%20%20%20%20%0A%20%20%20%20%20%20%20%20var%20popup_fe10a0c0d4334f8b83cef87be80b2380%20%3D%20L.popup%28%7B%22maxWidth%22%3A%20%22100%25%22%7D%29%3B%0A%0A%20%20%20%20%20%20%20%20%0A%20%20%20%20%20%20%20%20%20%20%20%20var%20html_c91c93d7ca5f44859ce099bbf5cc2aba%20%3D%20%24%28%60%3Cdiv%20id%3D%22html_c91c93d7ca5f44859ce099bbf5cc2aba%22%20style%3D%22width%3A%20100.0%25%3B%20height%3A%20100.0%25%3B%22%3EMarker%20Popup%3C/div%3E%60%29%5B0%5D%3B%0A%20%20%20%20%20%20%20%20%20%20%20%20popup_fe10a0c0d4334f8b83cef87be80b2380.setContent%28html_c91c93d7ca5f44859ce099bbf5cc2aba%29%3B%0A%20%20%20%20%20%20%20%20%0A%0A%20%20%20%20%20%20%20%20marker_0f77962189554f4782f6042fea5cb683.bindPopup%28popup_fe10a0c0d4334f8b83cef87be80b2380%29%0A%20%20%20%20%20%20%20%20%3B%0A%0A%20%20%20%20%20%20%20%20%0A%20%20%20%20%0A%20%20%20%20%0A%20%20%20%20%20%20%20%20%20%20%20%20marker_0f77962189554f4782f6042fea5cb683.bindTooltip%28%0A%20%20%20%20%20%20%20%20%20%20%20%20%20%20%20%20%60%3Cdiv%3E%0A%20%20%20%20%20%20%20%20%20%20%20%20%20%20%20%20%20%20%20%20%20%7B%27Location%27%3A%20%27K%C3%B8benhavn%20S%2C%20Kvintus%20All%C3%A9%27%2C%20%27Rent%27%3A%2016.246%2C%20%27Rooms%27%3A%204.0%7D%0A%20%20%20%20%20%20%20%20%20%20%20%20%20%20%20%20%20%3C/div%3E%60%2C%0A%20%20%20%20%20%20%20%20%20%20%20%20%20%20%20%20%7B%22sticky%22%3A%20true%7D%0A%20%20%20%20%20%20%20%20%20%20%20%20%29%3B%0A%20%20%20%20%20%20%20%20%0A%20%20%20%20%0A%20%20%20%20%20%20%20%20%20%20%20%20var%20marker_a6be88954b15487ba529039dfb5f9d82%20%3D%20L.marker%28%0A%20%20%20%20%20%20%20%20%20%20%20%20%20%20%20%20%5B55.65965525%2C%2012.591076889344563%5D%2C%0A%20%20%20%20%20%20%20%20%20%20%20%20%20%20%20%20%7B%7D%0A%20%20%20%20%20%20%20%20%20%20%20%20%29.addTo%28map_61ad0aba720143fd9f0a64f4c83a794f%29%3B%0A%20%20%20%20%20%20%20%20%0A%20%20%20%20%0A%20%20%20%20%20%20%20%20%20%20%20%20var%20icon_7a3b1ff4621e45539f4eeaae2f498f4b%20%3D%20L.AwesomeMarkers.icon%28%0A%20%20%20%20%20%20%20%20%20%20%20%20%20%20%20%20%7B%22extraClasses%22%3A%20%22fa-rotate-0%22%2C%20%22icon%22%3A%20%22info-sign%22%2C%20%22iconColor%22%3A%20%22white%22%2C%20%22markerColor%22%3A%20%22red%22%2C%20%22prefix%22%3A%20%22glyphicon%22%7D%0A%20%20%20%20%20%20%20%20%20%20%20%20%29%3B%0A%20%20%20%20%20%20%20%20%20%20%20%20marker_a6be88954b15487ba529039dfb5f9d82.setIcon%28icon_7a3b1ff4621e45539f4eeaae2f498f4b%29%3B%0A%20%20%20%20%20%20%20%20%0A%20%20%20%20%0A%20%20%20%20%20%20%20%20var%20popup_c6a4b829a3df45169bdaae7a0f98af69%20%3D%20L.popup%28%7B%22maxWidth%22%3A%20%22100%25%22%7D%29%3B%0A%0A%20%20%20%20%20%20%20%20%0A%20%20%20%20%20%20%20%20%20%20%20%20var%20html_042e21372df3430a94446ae3edb89309%20%3D%20%24%28%60%3Cdiv%20id%3D%22html_042e21372df3430a94446ae3edb89309%22%20style%3D%22width%3A%20100.0%25%3B%20height%3A%20100.0%25%3B%22%3EMarker%20Popup%3C/div%3E%60%29%5B0%5D%3B%0A%20%20%20%20%20%20%20%20%20%20%20%20popup_c6a4b829a3df45169bdaae7a0f98af69.setContent%28html_042e21372df3430a94446ae3edb89309%29%3B%0A%20%20%20%20%20%20%20%20%0A%0A%20%20%20%20%20%20%20%20marker_a6be88954b15487ba529039dfb5f9d82.bindPopup%28popup_c6a4b829a3df45169bdaae7a0f98af69%29%0A%20%20%20%20%20%20%20%20%3B%0A%0A%20%20%20%20%20%20%20%20%0A%20%20%20%20%0A%20%20%20%20%0A%20%20%20%20%20%20%20%20%20%20%20%20marker_a6be88954b15487ba529039dfb5f9d82.bindTooltip%28%0A%20%20%20%20%20%20%20%20%20%20%20%20%20%20%20%20%60%3Cdiv%3E%0A%20%20%20%20%20%20%20%20%20%20%20%20%20%20%20%20%20%20%20%20%20ITU%0A%20%20%20%20%20%20%20%20%20%20%20%20%20%20%20%20%20%3C/div%3E%60%2C%0A%20%20%20%20%20%20%20%20%20%20%20%20%20%20%20%20%7B%22sticky%22%3A%20true%7D%0A%20%20%20%20%20%20%20%20%20%20%20%20%29%3B%0A%20%20%20%20%20%20%20%20%0A%3C/script%3E onload=\"this.contentDocument.open();this.contentDocument.write(    decodeURIComponent(this.getAttribute('data-html')));this.contentDocument.close();\" allowfullscreen webkitallowfullscreen mozallowfullscreen></iframe></div></div>"
      ],
      "text/plain": [
       "<folium.folium.Map at 0x7ff03c5bf9a0>"
      ]
     },
     "execution_count": 121,
     "metadata": {},
     "output_type": "execute_result"
    }
   ],
   "source": [
    "def plot_map(df):\n",
    "    p = df\n",
    "    # p = df.iloc[:]\n",
    "    p = p[p['Coordinates'] != 'Error']\n",
    "    # List of coordinates\n",
    "    coordinates = list(p['Coordinates'])\n",
    "\n",
    "    # Calculate the center of the coordinates\n",
    "    center_lat = sum(lat for lat, _ in coordinates) / len(coordinates)\n",
    "    center_lon = sum(lon for _, lon in coordinates) / len(coordinates)\n",
    "\n",
    "    # Create a map object with the calculated center\n",
    "    map = folium.Map(location=[center_lat, center_lon], zoom_start=12)\n",
    "\n",
    "    # Add markers to the map\n",
    "    count = 0\n",
    "    for coord in coordinates:        \n",
    "        focus = p.iloc[count]\n",
    "        folium.Marker(location=coord,tooltip={'Location':focus.location,'Rent':focus.rent,'Rooms':focus.rooms}, popup='Marker Popup').add_to(map)\n",
    "        count += 1\n",
    "        \n",
    "    folium.Marker(location=list(p.ITU_coordinates)[0], tooltip='ITU', popup='Marker Popup', icon=folium.Icon(color='red')).add_to(map)\n",
    "\n",
    "    # Adjust the CSS styling of the map container\n",
    "    # map._repr_html_ = map._repr_html_().replace('style=\"', 'style=\"width:50%; height:50%;')\n",
    "    # Display the map\n",
    "    return map\n",
    "plot_map(df=best_options_df)"
   ]
  },
  {
   "attachments": {},
   "cell_type": "markdown",
   "metadata": {},
   "source": [
    "Now that we have a dataset with all the apartments in BoligPortal, we can look at the data and filter it as we want"
   ]
  },
  {
   "cell_type": "code",
   "execution_count": 122,
   "metadata": {},
   "outputs": [
    {
     "name": "stdout",
     "output_type": "stream",
     "text": [
      "\n",
      "Number rooms: 1\n",
      "\tNumber of places with 1 rooms: 166\n",
      "\tNumber of places posted <= 15 hours ago: 2\n"
     ]
    },
    {
     "data": {
      "text/html": [
       "<div>\n",
       "<style scoped>\n",
       "    .dataframe tbody tr th:only-of-type {\n",
       "        vertical-align: middle;\n",
       "    }\n",
       "\n",
       "    .dataframe tbody tr th {\n",
       "        vertical-align: top;\n",
       "    }\n",
       "\n",
       "    .dataframe thead th {\n",
       "        text-align: right;\n",
       "    }\n",
       "</style>\n",
       "<table border=\"1\" class=\"dataframe\">\n",
       "  <thead>\n",
       "    <tr style=\"text-align: right;\">\n",
       "      <th></th>\n",
       "      <th>id</th>\n",
       "      <th>rooms</th>\n",
       "      <th>type</th>\n",
       "      <th>size</th>\n",
       "      <th>location</th>\n",
       "      <th>comments</th>\n",
       "      <th>time_posted</th>\n",
       "      <th>rent</th>\n",
       "      <th>ratio (1000 DKK)/person</th>\n",
       "      <th>site_num</th>\n",
       "      <th>Coordinates</th>\n",
       "      <th>ITU_coordinates</th>\n",
       "      <th>Distance (km)</th>\n",
       "    </tr>\n",
       "  </thead>\n",
       "  <tbody>\n",
       "    <tr>\n",
       "      <th>104</th>\n",
       "      <td>8</td>\n",
       "      <td>1.0</td>\n",
       "      <td>Room</td>\n",
       "      <td>13</td>\n",
       "      <td>Gentofte, Ved Bommen</td>\n",
       "      <td>Room for rent in Gentofte</td>\n",
       "      <td>6 hours</td>\n",
       "      <td>5.3</td>\n",
       "      <td>5.3</td>\n",
       "      <td>main_site</td>\n",
       "      <td>(55.7496671, 12.5194994)</td>\n",
       "      <td>(55.65965525, 12.591076889344563)</td>\n",
       "      <td>10.97</td>\n",
       "    </tr>\n",
       "    <tr>\n",
       "      <th>170</th>\n",
       "      <td>12</td>\n",
       "      <td>1.0</td>\n",
       "      <td>Room</td>\n",
       "      <td>16</td>\n",
       "      <td>København N, Vølundsgade</td>\n",
       "      <td>Room for rent in cosy apartment</td>\n",
       "      <td>11 hours</td>\n",
       "      <td>6.0</td>\n",
       "      <td>6.0</td>\n",
       "      <td>main_site</td>\n",
       "      <td>(55.7014401, 12.5510732)</td>\n",
       "      <td>(55.65965525, 12.591076889344563)</td>\n",
       "      <td>5.28</td>\n",
       "    </tr>\n",
       "  </tbody>\n",
       "</table>\n",
       "</div>"
      ],
      "text/plain": [
       "     id  rooms  type size                  location  \\\n",
       "104   8    1.0  Room   13      Gentofte, Ved Bommen   \n",
       "170  12    1.0  Room   16  København N, Vølundsgade   \n",
       "\n",
       "                            comments time_posted  rent  \\\n",
       "104        Room for rent in Gentofte     6 hours   5.3   \n",
       "170  Room for rent in cosy apartment    11 hours   6.0   \n",
       "\n",
       "     ratio (1000 DKK)/person   site_num               Coordinates  \\\n",
       "104                      5.3  main_site  (55.7496671, 12.5194994)   \n",
       "170                      6.0  main_site  (55.7014401, 12.5510732)   \n",
       "\n",
       "                       ITU_coordinates  Distance (km)  \n",
       "104  (55.65965525, 12.591076889344563)          10.97  \n",
       "170  (55.65965525, 12.591076889344563)           5.28  "
      ]
     },
     "metadata": {},
     "output_type": "display_data"
    },
    {
     "name": "stdout",
     "output_type": "stream",
     "text": [
      "\n",
      "Number rooms: 2\n",
      "\tNumber of places with 2 rooms: 105\n",
      "\tNumber of places posted <= 15 hours ago: 0\n",
      "\n",
      "Number rooms: 3\n",
      "\tNumber of places with 3 rooms: 109\n",
      "\tNumber of places posted <= 15 hours ago: 0\n",
      "\n",
      "Number rooms: 4\n",
      "\tNumber of places with 4 rooms: 98\n",
      "\tNumber of places posted <= 15 hours ago: 4\n"
     ]
    },
    {
     "data": {
      "text/html": [
       "<div>\n",
       "<style scoped>\n",
       "    .dataframe tbody tr th:only-of-type {\n",
       "        vertical-align: middle;\n",
       "    }\n",
       "\n",
       "    .dataframe tbody tr th {\n",
       "        vertical-align: top;\n",
       "    }\n",
       "\n",
       "    .dataframe thead th {\n",
       "        text-align: right;\n",
       "    }\n",
       "</style>\n",
       "<table border=\"1\" class=\"dataframe\">\n",
       "  <thead>\n",
       "    <tr style=\"text-align: right;\">\n",
       "      <th></th>\n",
       "      <th>id</th>\n",
       "      <th>rooms</th>\n",
       "      <th>type</th>\n",
       "      <th>size</th>\n",
       "      <th>location</th>\n",
       "      <th>comments</th>\n",
       "      <th>time_posted</th>\n",
       "      <th>rent</th>\n",
       "      <th>ratio (1000 DKK)/person</th>\n",
       "      <th>site_num</th>\n",
       "      <th>Coordinates</th>\n",
       "      <th>ITU_coordinates</th>\n",
       "      <th>Distance (km)</th>\n",
       "    </tr>\n",
       "  </thead>\n",
       "  <tbody>\n",
       "    <tr>\n",
       "      <th>36</th>\n",
       "      <td>4</td>\n",
       "      <td>4.0</td>\n",
       "      <td>Apartment</td>\n",
       "      <td>120</td>\n",
       "      <td>Taastrup, Saven A</td>\n",
       "      <td>LYS LEJLIGHED MED VESTVENDT ALTAN OG FRI UDSIGT</td>\n",
       "      <td>7 hours</td>\n",
       "      <td>13.0</td>\n",
       "      <td>4.33</td>\n",
       "      <td>main_site</td>\n",
       "      <td>(55.6516403, 12.2784923)</td>\n",
       "      <td>(55.65965525, 12.591076889344563)</td>\n",
       "      <td>19.63</td>\n",
       "    </tr>\n",
       "    <tr>\n",
       "      <th>85</th>\n",
       "      <td>14</td>\n",
       "      <td>4.0</td>\n",
       "      <td>Apartment</td>\n",
       "      <td>96</td>\n",
       "      <td>Frederiksberg, Aksel Møllers Have</td>\n",
       "      <td>Unik og super moderne lejlighed med altan og p...</td>\n",
       "      <td>10 hours</td>\n",
       "      <td>15.0</td>\n",
       "      <td>5.00</td>\n",
       "      <td>main_site</td>\n",
       "      <td>(55.6860507, 12.5329471)</td>\n",
       "      <td>(55.65965525, 12.591076889344563)</td>\n",
       "      <td>4.68</td>\n",
       "    </tr>\n",
       "    <tr>\n",
       "      <th>108</th>\n",
       "      <td>11</td>\n",
       "      <td>4.0</td>\n",
       "      <td>Apartment</td>\n",
       "      <td>107</td>\n",
       "      <td>Frederiksberg, Rådmand Steins Alle</td>\n",
       "      <td>4 værelse til leje på frederiksberg</td>\n",
       "      <td>4 hours</td>\n",
       "      <td>16.0</td>\n",
       "      <td>5.33</td>\n",
       "      <td>main_site</td>\n",
       "      <td>(55.6724169, 12.4982596)</td>\n",
       "      <td>(55.65965525, 12.591076889344563)</td>\n",
       "      <td>5.99</td>\n",
       "    </tr>\n",
       "    <tr>\n",
       "      <th>202</th>\n",
       "      <td>5</td>\n",
       "      <td>4.0</td>\n",
       "      <td>Apartment</td>\n",
       "      <td>115</td>\n",
       "      <td>København Ø, Sortedam Dossering</td>\n",
       "      <td>Unik lejlighed med fantastisk udsigt</td>\n",
       "      <td>7 hours</td>\n",
       "      <td>19.9</td>\n",
       "      <td>6.63</td>\n",
       "      <td>main_site</td>\n",
       "      <td>(55.6946098, 12.5726967)</td>\n",
       "      <td>(55.65965525, 12.591076889344563)</td>\n",
       "      <td>4.05</td>\n",
       "    </tr>\n",
       "  </tbody>\n",
       "</table>\n",
       "</div>"
      ],
      "text/plain": [
       "     id  rooms       type size                            location  \\\n",
       "36    4    4.0  Apartment  120                   Taastrup, Saven A   \n",
       "85   14    4.0  Apartment   96   Frederiksberg, Aksel Møllers Have   \n",
       "108  11    4.0  Apartment  107  Frederiksberg, Rådmand Steins Alle   \n",
       "202   5    4.0  Apartment  115     København Ø, Sortedam Dossering   \n",
       "\n",
       "                                              comments time_posted  rent  \\\n",
       "36     LYS LEJLIGHED MED VESTVENDT ALTAN OG FRI UDSIGT     7 hours  13.0   \n",
       "85   Unik og super moderne lejlighed med altan og p...    10 hours  15.0   \n",
       "108                4 værelse til leje på frederiksberg     4 hours  16.0   \n",
       "202               Unik lejlighed med fantastisk udsigt     7 hours  19.9   \n",
       "\n",
       "     ratio (1000 DKK)/person   site_num               Coordinates  \\\n",
       "36                      4.33  main_site  (55.6516403, 12.2784923)   \n",
       "85                      5.00  main_site  (55.6860507, 12.5329471)   \n",
       "108                     5.33  main_site  (55.6724169, 12.4982596)   \n",
       "202                     6.63  main_site  (55.6946098, 12.5726967)   \n",
       "\n",
       "                       ITU_coordinates  Distance (km)  \n",
       "36   (55.65965525, 12.591076889344563)          19.63  \n",
       "85   (55.65965525, 12.591076889344563)           4.68  \n",
       "108  (55.65965525, 12.591076889344563)           5.99  \n",
       "202  (55.65965525, 12.591076889344563)           4.05  "
      ]
     },
     "metadata": {},
     "output_type": "display_data"
    },
    {
     "name": "stdout",
     "output_type": "stream",
     "text": [
      "\n",
      "Number rooms: 5\n",
      "\tNumber of places with 5 rooms: 19\n",
      "\tNumber of places posted <= 15 hours ago: 0\n",
      "\n",
      "Number rooms: 6\n",
      "\tNumber of places with 6 rooms: 3\n",
      "\tNumber of places posted <= 15 hours ago: 0\n",
      "\n",
      "Number rooms: 7\n",
      "\tNumber of places with 7 rooms: 2\n",
      "\tNumber of places posted <= 15 hours ago: 0\n",
      "\n",
      "Number rooms: 8\n",
      "\tNumber of places with 8 rooms: 1\n",
      "\tNumber of places posted <= 15 hours ago: 0\n",
      "\n",
      "Number rooms: 9\n",
      "\tNumber of places with 9 rooms: 0\n",
      "\tNumber of places posted <= 15 hours ago: 0\n"
     ]
    }
   ],
   "source": [
    "# this function \n",
    "def target(n_rooms = 1,threshold_hours=10,threshold_time=True):\n",
    "    # select how many roowms you want to look at    \n",
    "    indeces = np.where((np.array(list(df.rooms)) == n_rooms) & (np.array(list(df.type)) == 'Apartment'))\n",
    "    indeces = np.where((np.array(list(df.rooms)) == n_rooms))\n",
    "    print('\\tNumber of places with {} rooms: {}'.format(n_rooms,len(list(indeces[0]))))\n",
    "    # selet if you want to show the whole df or not\n",
    "    show_all = True\n",
    "    if show_all:\n",
    "        pd.set_option('display.max_rows', None)\n",
    "    target = df.iloc[list(indeces[0])]\n",
    "\n",
    "    if threshold_time:        \n",
    "        times = []\n",
    "        for i in target.time_posted:\n",
    "            if 'hour' in i:\n",
    "                times.append(int(i.split()[0]))\n",
    "            elif 'min' in i:\n",
    "                times.append(int(i.split()[0])/60)\n",
    "            else:\n",
    "                times.append(i)\n",
    "\n",
    "        threshold_times = [1 if isinstance(i, int) and i < threshold_hours else 0 for i in times]\n",
    "        threshold_times_idx = list(np.where(np.array(threshold_times) == 1)[0])\n",
    "        print('\\tNumber of places posted <= {} hours ago: {}'.format(threshold_hours,len(threshold_times_idx)))\n",
    "        return target.iloc[threshold_times_idx]\n",
    "    else: \n",
    "        return target\n",
    "\n",
    "check_all_options = True\n",
    "if check_all_options:\n",
    "    for i in range(1,10):\n",
    "        print('\\nNumber rooms:',i)\n",
    "        result = target(n_rooms = i,threshold_hours=15,threshold_time=True)\n",
    "        if result.shape[0] != 0:            \n",
    "            display(result)"
   ]
  },
  {
   "attachments": {},
   "cell_type": "markdown",
   "metadata": {},
   "source": [
    "Now we are going to try find a balance between the rent and how far away the apartments are"
   ]
  },
  {
   "cell_type": "code",
   "execution_count": 218,
   "metadata": {},
   "outputs": [],
   "source": [
    "# i would not recommend using this one too much\n",
    "def price_distance_balance(df):\n",
    "    # create a copy of the df and order it in terms of distance\n",
    "    dff = df\n",
    "    dff = dff.drop('id',axis=1)\n",
    "    dff['Distance (km)'] = dff['Distance (km)'].replace('Error', 9999)\n",
    "    dff = dff.sort_values('Distance (km)')\n",
    "    dff = dff.reset_index()\n",
    "    dff = dff.rename(columns={'index': 'id'})\n",
    "\n",
    "    # the rank of aprtments in terms of closeness, how far are they in terms of expensiveness?\n",
    "    # take both price and how far it is into consideration and put it into a dic\n",
    "    cheapest = dict(enumerate(df.id))\n",
    "    cheapest = {v:k+1 for k,v in cheapest.items()}\n",
    "\n",
    "    closest = dict(enumerate(dff.id))\n",
    "    closest = {v:k+1 for k,v in closest.items()}\n",
    "\n",
    "    comb = {k:(v+closest[k])/2 for k,v in cheapest.items()}\n",
    "    comb = {k:v for k,v in sorted(comb.items(),key=lambda i:i[1])}\n",
    "\n",
    "\n",
    "    # reorganize the df based on the made list\n",
    "    arr = np.array(list(df.id))\n",
    "    loc = lambda i:np.where(arr == i)\n",
    "\n",
    "    l = list(map(loc,list(comb.keys())))\n",
    "    return df.iloc[[i[0][0] for i in l]]\n",
    "    \n",
    "balanced_df = price_distance_balance(df)"
   ]
  },
  {
   "attachments": {},
   "cell_type": "markdown",
   "metadata": {},
   "source": [
    "Now we are going to analyze the stats of the different features"
   ]
  },
  {
   "cell_type": "code",
   "execution_count": 221,
   "metadata": {},
   "outputs": [
    {
     "data": {
      "image/png": "[encoded data removed]",
      "text/plain": [
       "<Figure size 432x288 with 1 Axes>"
      ]
     },
     "metadata": {
      "needs_background": "light"
     },
     "output_type": "display_data"
    },
    {
     "name": "stdout",
     "output_type": "stream",
     "text": [
      "Correlation: 0.6929273993425428\n"
     ]
    },
    {
     "data": {
      "image/png": "[encoded data removed]",
      "text/plain": [
       "<Figure size 432x288 with 1 Axes>"
      ]
     },
     "metadata": {
      "needs_background": "light"
     },
     "output_type": "display_data"
    },
    {
     "name": "stdout",
     "output_type": "stream",
     "text": [
      "Correlation: -0.6143451255042779\n"
     ]
    }
   ],
   "source": [
    "from scipy.stats import pearsonr\n",
    "# since there are some rws that have an error in their coordinates, but they are not a majority, we are going to remove these to \n",
    "# be able to do a pearson correlation\n",
    "df_study = df[df.Coordinates != 'Error']\n",
    "\n",
    "# for encoding strings into numbers\n",
    "def encoding(col,df):\n",
    "    df_study = df\n",
    "    encoding = lambda i:dict(enumerate(set(list(df_study[i]))))\n",
    "    encoding = {v:k for k,v in encoding(col).items()}\n",
    "    return [encoding[i] for i in df_study[col]]\n",
    "\n",
    "\n",
    "encoding_coord = lambda col:[np.mean(i) for i in df_study[col]]\n",
    "\n",
    "# investigate the correlations the different features have with each other\n",
    "\n",
    "def feature_correlations(df_study,plot=True):\n",
    "    checked,columns,correlations = [],list(df_study.columns),{k:[] for k in df_study.columns}\n",
    "\n",
    "    for i in range(len(df_study.columns)):\n",
    "        for j in range(len(df_study.columns)):\n",
    "            if i != j and i != 0:\n",
    "                if j not in checked:\n",
    "                    \n",
    "                    # print(columns[i],'vs',columns[j])                \n",
    "                    \n",
    "                    x,y = list(df_study[columns[i]]),list(df_study[columns[j]])\n",
    "                    if type(x[0]) == str:\n",
    "                        x = encoding(columns[i],df=df_study)\n",
    "                    if type(y[0]) == str:\n",
    "                        y = encoding(columns[j],df=df_study)                    \n",
    "                    if type(x[0]) == tuple:\n",
    "                        x = encoding_coord(columns[i])\n",
    "                    if type(y[0]) == tuple:\n",
    "                        y = encoding_coord(columns[j])                                        \n",
    "\n",
    "                    correlation_coefficient, p_value = pearsonr(x, y)\n",
    "                    \n",
    "                    # add to dictionary to have the corrleations of the features with each other in a dic\n",
    "                    correlations[columns[i]].append({columns[j]:correlation_coefficient})\n",
    "                    \n",
    "                    if plot:\n",
    "                        if correlation_coefficient >= 0.5 or correlation_coefficient <= -0.5:\n",
    "                            plt.scatter(x,y)\n",
    "                            plt.xlabel(columns[i])\n",
    "                            plt.ylabel(columns[j])\n",
    "                            plt.title('{} vs {}'.format(columns[i],columns[j]))\n",
    "                            plt.show()\n",
    "                            print('Correlation:',correlation_coefficient)\n",
    "\n",
    "            checked.append(i)\n",
    "    return correlations\n",
    "\n",
    "correlations = feature_correlations(df_study,plot=True)"
   ]
  },
  {
   "cell_type": "code",
   "execution_count": 262,
   "metadata": {},
   "outputs": [
    {
     "data": {
      "image/png": "[encoded data removed]",
      "text/plain": [
       "<Figure size 432x288 with 1 Axes>"
      ]
     },
     "metadata": {
      "needs_background": "light"
     },
     "output_type": "display_data"
    },
    {
     "data": {
      "image/png": "[encoded data removed]",
      "text/plain": [
       "<Figure size 432x288 with 1 Axes>"
      ]
     },
     "metadata": {
      "needs_background": "light"
     },
     "output_type": "display_data"
    },
    {
     "data": {
      "image/png": "[encoded data removed]",
      "text/plain": [
       "<Figure size 432x288 with 1 Axes>"
      ]
     },
     "metadata": {
      "needs_background": "light"
     },
     "output_type": "display_data"
    },
    {
     "data": {
      "image/png": "[encoded data removed]",
      "text/plain": [
       "<Figure size 432x288 with 1 Axes>"
      ]
     },
     "metadata": {
      "needs_background": "light"
     },
     "output_type": "display_data"
    },
    {
     "data": {
      "image/png": "[encoded data removed]",
      "text/plain": [
       "<Figure size 432x288 with 1 Axes>"
      ]
     },
     "metadata": {
      "needs_background": "light"
     },
     "output_type": "display_data"
    },
    {
     "data": {
      "image/png": "[encoded data removed]",
      "text/plain": [
       "<Figure size 432x288 with 1 Axes>"
      ]
     },
     "metadata": {
      "needs_background": "light"
     },
     "output_type": "display_data"
    },
    {
     "data": {
      "image/png": "[encoded data removed]",
      "text/plain": [
       "<Figure size 432x288 with 1 Axes>"
      ]
     },
     "metadata": {
      "needs_background": "light"
     },
     "output_type": "display_data"
    },
    {
     "data": {
      "image/png": "[encoded data removed]",
      "text/plain": [
       "<Figure size 432x288 with 1 Axes>"
      ]
     },
     "metadata": {
      "needs_background": "light"
     },
     "output_type": "display_data"
    }
   ],
   "source": [
    "def feature_distributions():\n",
    "    c = ['rooms','type','size','time_posted','rent','ratio (1000 DKK)/person','site_num','Distance (km)']\n",
    "    for i in c:    \n",
    "        try:\n",
    "            plt.hist(df[i])\n",
    "            plt.title(i)\n",
    "            if len(set(list(df[i]))) > 15:\n",
    "                plt.xticks(rotation=90)        \n",
    "            plt.show()\n",
    "\n",
    "        except:\n",
    "            l = [x for x in df[i] if not isinstance(x,str)]\n",
    "            plt.hist(l)\n",
    "            plt.title(i)\n",
    "            plt.show()        \n",
    "feature_distributions()            "
   ]
  },
  {
   "cell_type": "code",
   "execution_count": null,
   "metadata": {},
   "outputs": [],
   "source": []
  },
  {
   "cell_type": "code",
   "execution_count": null,
   "metadata": {},
   "outputs": [],
   "source": []
  },
  {
   "attachments": {},
   "cell_type": "markdown",
   "metadata": {},
   "source": [
    "This can be used to find the webapge of a place. All all the details of the url can be found in the dataset. All I need is the id of the location. This is where I iterate through all possible numbers until i find the right one. To ru all the functions you jsut have to run the last function :)"
   ]
  },
  {
   "cell_type": "code",
   "execution_count": 12,
   "metadata": {},
   "outputs": [
    {
     "name": "stdout",
     "output_type": "stream",
     "text": [
      "### Looking for ID ###\n",
      "\n",
      "id: 4904520\n",
      "id: 4904530\n",
      "id: 4904540\n",
      "id: 4904550\n",
      "id: 4904560\n",
      "id: 4904570\n",
      "id: 4904580\n",
      "id: 4904590\n",
      "id: 4904600\n"
     ]
    },
    {
     "ename": "KeyboardInterrupt",
     "evalue": "",
     "output_type": "error",
     "traceback": [
      "\u001b[0;31m---------------------------------------------------------------------------\u001b[0m",
      "\u001b[0;31mKeyboardInterrupt\u001b[0m                         Traceback (most recent call last)",
      "\u001b[0;32m<ipython-input-12-ec4fac2c1858>\u001b[0m in \u001b[0;36m<module>\u001b[0;34m\u001b[0m\n\u001b[1;32m     71\u001b[0m \u001b[0;34m\u001b[0m\u001b[0m\n\u001b[1;32m     72\u001b[0m \u001b[0;31m# to run all the functions above all you have to do is run this one. There is no need to touch anything else\u001b[0m\u001b[0;34m\u001b[0m\u001b[0;34m\u001b[0m\u001b[0;34m\u001b[0m\u001b[0m\n\u001b[0;32m---> 73\u001b[0;31m \u001b[0mextra_info_dic\u001b[0m \u001b[0;34m=\u001b[0m \u001b[0mapartments_extra_info_extraction\u001b[0m\u001b[0;34m(\u001b[0m\u001b[0mn\u001b[0m\u001b[0;34m=\u001b[0m\u001b[0;36m0\u001b[0m\u001b[0;34m,\u001b[0m\u001b[0mid_\u001b[0m \u001b[0;34m=\u001b[0m \u001b[0;36m4904520\u001b[0m\u001b[0;34m,\u001b[0m\u001b[0mcomments\u001b[0m\u001b[0;34m=\u001b[0m\u001b[0;32mFalse\u001b[0m\u001b[0;34m)\u001b[0m\u001b[0;34m\u001b[0m\u001b[0;34m\u001b[0m\u001b[0m\n\u001b[0m\u001b[1;32m     74\u001b[0m \u001b[0mprint\u001b[0m\u001b[0;34m(\u001b[0m\u001b[0;34m'Shareable:'\u001b[0m\u001b[0;34m,\u001b[0m\u001b[0mextra_info_dic\u001b[0m\u001b[0;34m[\u001b[0m\u001b[0;34m'Shareable'\u001b[0m\u001b[0;34m]\u001b[0m\u001b[0;34m)\u001b[0m\u001b[0;34m\u001b[0m\u001b[0;34m\u001b[0m\u001b[0m\n\u001b[1;32m     75\u001b[0m \u001b[0mprint\u001b[0m\u001b[0;34m(\u001b[0m\u001b[0;34m'Furnished:'\u001b[0m\u001b[0;34m,\u001b[0m\u001b[0mextra_info_dic\u001b[0m\u001b[0;34m[\u001b[0m\u001b[0;34m'Furnished'\u001b[0m\u001b[0;34m]\u001b[0m\u001b[0;34m)\u001b[0m\u001b[0;34m\u001b[0m\u001b[0;34m\u001b[0m\u001b[0m\n",
      "\u001b[0;32m<ipython-input-12-ec4fac2c1858>\u001b[0m in \u001b[0;36mapartments_extra_info_extraction\u001b[0;34m(n, id_, comments)\u001b[0m\n\u001b[1;32m     53\u001b[0m         \u001b[0;32mif\u001b[0m \u001b[0mid_\u001b[0m\u001b[0;34m%\u001b[0m\u001b[0;36m10\u001b[0m \u001b[0;34m==\u001b[0m \u001b[0;36m0\u001b[0m\u001b[0;34m:\u001b[0m\u001b[0;34m\u001b[0m\u001b[0;34m\u001b[0m\u001b[0m\n\u001b[1;32m     54\u001b[0m             \u001b[0mprint\u001b[0m\u001b[0;34m(\u001b[0m\u001b[0;34m'id:'\u001b[0m\u001b[0;34m,\u001b[0m\u001b[0mid_\u001b[0m\u001b[0;34m)\u001b[0m\u001b[0;34m\u001b[0m\u001b[0;34m\u001b[0m\u001b[0m\n\u001b[0;32m---> 55\u001b[0;31m         \u001b[0mid_dic\u001b[0m \u001b[0;34m=\u001b[0m \u001b[0mchecking_id\u001b[0m\u001b[0;34m(\u001b[0m\u001b[0mn\u001b[0m\u001b[0;34m=\u001b[0m\u001b[0mn\u001b[0m\u001b[0;34m,\u001b[0m\u001b[0mid_\u001b[0m\u001b[0;34m=\u001b[0m\u001b[0mid_\u001b[0m\u001b[0;34m,\u001b[0m\u001b[0mcomments\u001b[0m\u001b[0;34m=\u001b[0m\u001b[0mcomments\u001b[0m\u001b[0;34m)\u001b[0m\u001b[0;34m\u001b[0m\u001b[0;34m\u001b[0m\u001b[0m\n\u001b[0m\u001b[1;32m     56\u001b[0m         \u001b[0mnot_right_id\u001b[0m \u001b[0;34m=\u001b[0m \u001b[0mid_dic\u001b[0m\u001b[0;34m[\u001b[0m\u001b[0;34m'id_check'\u001b[0m\u001b[0;34m]\u001b[0m\u001b[0;34m\u001b[0m\u001b[0;34m\u001b[0m\u001b[0m\n\u001b[1;32m     57\u001b[0m         \u001b[0mid_\u001b[0m \u001b[0;34m+=\u001b[0m \u001b[0;36m1\u001b[0m\u001b[0;34m\u001b[0m\u001b[0;34m\u001b[0m\u001b[0m\n",
      "\u001b[0;32m<ipython-input-12-ec4fac2c1858>\u001b[0m in \u001b[0;36mchecking_id\u001b[0;34m(id_, n, comments)\u001b[0m\n\u001b[1;32m     19\u001b[0m     \u001b[0md\u001b[0m \u001b[0;34m=\u001b[0m \u001b[0murl_arguments_dic\u001b[0m\u001b[0;34m(\u001b[0m\u001b[0mn\u001b[0m\u001b[0;34m=\u001b[0m\u001b[0mn\u001b[0m\u001b[0;34m,\u001b[0m\u001b[0mid_\u001b[0m\u001b[0;34m=\u001b[0m\u001b[0mid_\u001b[0m\u001b[0;34m)\u001b[0m\u001b[0;34m\u001b[0m\u001b[0;34m\u001b[0m\u001b[0m\n\u001b[1;32m     20\u001b[0m     \u001b[0murl\u001b[0m \u001b[0;34m=\u001b[0m \u001b[0;34m\"https://www.boligportal.dk/en/rental-{}/k%C3%B8benhavn/{}m2-{}-room-id-{}\"\u001b[0m\u001b[0;34m.\u001b[0m\u001b[0mformat\u001b[0m\u001b[0;34m(\u001b[0m\u001b[0md\u001b[0m\u001b[0;34m[\u001b[0m\u001b[0;34m'type'\u001b[0m\u001b[0;34m]\u001b[0m\u001b[0;34m,\u001b[0m\u001b[0md\u001b[0m\u001b[0;34m[\u001b[0m\u001b[0;34m'size'\u001b[0m\u001b[0;34m]\u001b[0m\u001b[0;34m,\u001b[0m\u001b[0md\u001b[0m\u001b[0;34m[\u001b[0m\u001b[0;34m'n_rooms'\u001b[0m\u001b[0;34m]\u001b[0m\u001b[0;34m,\u001b[0m\u001b[0md\u001b[0m\u001b[0;34m[\u001b[0m\u001b[0;34m'id'\u001b[0m\u001b[0;34m]\u001b[0m\u001b[0;34m)\u001b[0m\u001b[0;34m\u001b[0m\u001b[0;34m\u001b[0m\u001b[0m\n\u001b[0;32m---> 21\u001b[0;31m     \u001b[0mresponse\u001b[0m \u001b[0;34m=\u001b[0m \u001b[0mrequests\u001b[0m\u001b[0;34m.\u001b[0m\u001b[0mget\u001b[0m\u001b[0;34m(\u001b[0m\u001b[0murl\u001b[0m\u001b[0;34m)\u001b[0m\u001b[0;34m\u001b[0m\u001b[0;34m\u001b[0m\u001b[0m\n\u001b[0m\u001b[1;32m     22\u001b[0m \u001b[0;34m\u001b[0m\u001b[0m\n\u001b[1;32m     23\u001b[0m     \u001b[0;31m# Create a BeautifulSoup object and specify the parser\u001b[0m\u001b[0;34m\u001b[0m\u001b[0;34m\u001b[0m\u001b[0;34m\u001b[0m\u001b[0m\n",
      "\u001b[0;32m~/opt/anaconda3/lib/python3.8/site-packages/requests/api.py\u001b[0m in \u001b[0;36mget\u001b[0;34m(url, params, **kwargs)\u001b[0m\n\u001b[1;32m     73\u001b[0m     \"\"\"\n\u001b[1;32m     74\u001b[0m \u001b[0;34m\u001b[0m\u001b[0m\n\u001b[0;32m---> 75\u001b[0;31m     \u001b[0;32mreturn\u001b[0m \u001b[0mrequest\u001b[0m\u001b[0;34m(\u001b[0m\u001b[0;34m'get'\u001b[0m\u001b[0;34m,\u001b[0m \u001b[0murl\u001b[0m\u001b[0;34m,\u001b[0m \u001b[0mparams\u001b[0m\u001b[0;34m=\u001b[0m\u001b[0mparams\u001b[0m\u001b[0;34m,\u001b[0m \u001b[0;34m**\u001b[0m\u001b[0mkwargs\u001b[0m\u001b[0;34m)\u001b[0m\u001b[0;34m\u001b[0m\u001b[0;34m\u001b[0m\u001b[0m\n\u001b[0m\u001b[1;32m     76\u001b[0m \u001b[0;34m\u001b[0m\u001b[0m\n\u001b[1;32m     77\u001b[0m \u001b[0;34m\u001b[0m\u001b[0m\n",
      "\u001b[0;32m~/opt/anaconda3/lib/python3.8/site-packages/requests/api.py\u001b[0m in \u001b[0;36mrequest\u001b[0;34m(method, url, **kwargs)\u001b[0m\n\u001b[1;32m     59\u001b[0m     \u001b[0;31m# cases, and look like a memory leak in others.\u001b[0m\u001b[0;34m\u001b[0m\u001b[0;34m\u001b[0m\u001b[0;34m\u001b[0m\u001b[0m\n\u001b[1;32m     60\u001b[0m     \u001b[0;32mwith\u001b[0m \u001b[0msessions\u001b[0m\u001b[0;34m.\u001b[0m\u001b[0mSession\u001b[0m\u001b[0;34m(\u001b[0m\u001b[0;34m)\u001b[0m \u001b[0;32mas\u001b[0m \u001b[0msession\u001b[0m\u001b[0;34m:\u001b[0m\u001b[0;34m\u001b[0m\u001b[0;34m\u001b[0m\u001b[0m\n\u001b[0;32m---> 61\u001b[0;31m         \u001b[0;32mreturn\u001b[0m \u001b[0msession\u001b[0m\u001b[0;34m.\u001b[0m\u001b[0mrequest\u001b[0m\u001b[0;34m(\u001b[0m\u001b[0mmethod\u001b[0m\u001b[0;34m=\u001b[0m\u001b[0mmethod\u001b[0m\u001b[0;34m,\u001b[0m \u001b[0murl\u001b[0m\u001b[0;34m=\u001b[0m\u001b[0murl\u001b[0m\u001b[0;34m,\u001b[0m \u001b[0;34m**\u001b[0m\u001b[0mkwargs\u001b[0m\u001b[0;34m)\u001b[0m\u001b[0;34m\u001b[0m\u001b[0;34m\u001b[0m\u001b[0m\n\u001b[0m\u001b[1;32m     62\u001b[0m \u001b[0;34m\u001b[0m\u001b[0m\n\u001b[1;32m     63\u001b[0m \u001b[0;34m\u001b[0m\u001b[0m\n",
      "\u001b[0;32m~/opt/anaconda3/lib/python3.8/site-packages/requests/sessions.py\u001b[0m in \u001b[0;36mrequest\u001b[0;34m(self, method, url, params, data, headers, cookies, files, auth, timeout, allow_redirects, proxies, hooks, stream, verify, cert, json)\u001b[0m\n\u001b[1;32m    527\u001b[0m         }\n\u001b[1;32m    528\u001b[0m         \u001b[0msend_kwargs\u001b[0m\u001b[0;34m.\u001b[0m\u001b[0mupdate\u001b[0m\u001b[0;34m(\u001b[0m\u001b[0msettings\u001b[0m\u001b[0;34m)\u001b[0m\u001b[0;34m\u001b[0m\u001b[0;34m\u001b[0m\u001b[0m\n\u001b[0;32m--> 529\u001b[0;31m         \u001b[0mresp\u001b[0m \u001b[0;34m=\u001b[0m \u001b[0mself\u001b[0m\u001b[0;34m.\u001b[0m\u001b[0msend\u001b[0m\u001b[0;34m(\u001b[0m\u001b[0mprep\u001b[0m\u001b[0;34m,\u001b[0m \u001b[0;34m**\u001b[0m\u001b[0msend_kwargs\u001b[0m\u001b[0;34m)\u001b[0m\u001b[0;34m\u001b[0m\u001b[0;34m\u001b[0m\u001b[0m\n\u001b[0m\u001b[1;32m    530\u001b[0m \u001b[0;34m\u001b[0m\u001b[0m\n\u001b[1;32m    531\u001b[0m         \u001b[0;32mreturn\u001b[0m \u001b[0mresp\u001b[0m\u001b[0;34m\u001b[0m\u001b[0;34m\u001b[0m\u001b[0m\n",
      "\u001b[0;32m~/opt/anaconda3/lib/python3.8/site-packages/requests/sessions.py\u001b[0m in \u001b[0;36msend\u001b[0;34m(self, request, **kwargs)\u001b[0m\n\u001b[1;32m    643\u001b[0m \u001b[0;34m\u001b[0m\u001b[0m\n\u001b[1;32m    644\u001b[0m         \u001b[0;31m# Send the request\u001b[0m\u001b[0;34m\u001b[0m\u001b[0;34m\u001b[0m\u001b[0;34m\u001b[0m\u001b[0m\n\u001b[0;32m--> 645\u001b[0;31m         \u001b[0mr\u001b[0m \u001b[0;34m=\u001b[0m \u001b[0madapter\u001b[0m\u001b[0;34m.\u001b[0m\u001b[0msend\u001b[0m\u001b[0;34m(\u001b[0m\u001b[0mrequest\u001b[0m\u001b[0;34m,\u001b[0m \u001b[0;34m**\u001b[0m\u001b[0mkwargs\u001b[0m\u001b[0;34m)\u001b[0m\u001b[0;34m\u001b[0m\u001b[0;34m\u001b[0m\u001b[0m\n\u001b[0m\u001b[1;32m    646\u001b[0m \u001b[0;34m\u001b[0m\u001b[0m\n\u001b[1;32m    647\u001b[0m         \u001b[0;31m# Total elapsed time of the request (approximately)\u001b[0m\u001b[0;34m\u001b[0m\u001b[0;34m\u001b[0m\u001b[0;34m\u001b[0m\u001b[0m\n",
      "\u001b[0;32m~/opt/anaconda3/lib/python3.8/site-packages/requests/adapters.py\u001b[0m in \u001b[0;36msend\u001b[0;34m(self, request, stream, timeout, verify, cert, proxies)\u001b[0m\n\u001b[1;32m    438\u001b[0m         \u001b[0;32mtry\u001b[0m\u001b[0;34m:\u001b[0m\u001b[0;34m\u001b[0m\u001b[0;34m\u001b[0m\u001b[0m\n\u001b[1;32m    439\u001b[0m             \u001b[0;32mif\u001b[0m \u001b[0;32mnot\u001b[0m \u001b[0mchunked\u001b[0m\u001b[0;34m:\u001b[0m\u001b[0;34m\u001b[0m\u001b[0;34m\u001b[0m\u001b[0m\n\u001b[0;32m--> 440\u001b[0;31m                 resp = conn.urlopen(\n\u001b[0m\u001b[1;32m    441\u001b[0m                     \u001b[0mmethod\u001b[0m\u001b[0;34m=\u001b[0m\u001b[0mrequest\u001b[0m\u001b[0;34m.\u001b[0m\u001b[0mmethod\u001b[0m\u001b[0;34m,\u001b[0m\u001b[0;34m\u001b[0m\u001b[0;34m\u001b[0m\u001b[0m\n\u001b[1;32m    442\u001b[0m                     \u001b[0murl\u001b[0m\u001b[0;34m=\u001b[0m\u001b[0murl\u001b[0m\u001b[0;34m,\u001b[0m\u001b[0;34m\u001b[0m\u001b[0;34m\u001b[0m\u001b[0m\n",
      "\u001b[0;32m~/opt/anaconda3/lib/python3.8/site-packages/urllib3/connectionpool.py\u001b[0m in \u001b[0;36murlopen\u001b[0;34m(self, method, url, body, headers, retries, redirect, assert_same_host, timeout, pool_timeout, release_conn, chunked, body_pos, **response_kw)\u001b[0m\n\u001b[1;32m    697\u001b[0m \u001b[0;34m\u001b[0m\u001b[0m\n\u001b[1;32m    698\u001b[0m             \u001b[0;31m# Make the request on the httplib connection object.\u001b[0m\u001b[0;34m\u001b[0m\u001b[0;34m\u001b[0m\u001b[0;34m\u001b[0m\u001b[0m\n\u001b[0;32m--> 699\u001b[0;31m             httplib_response = self._make_request(\n\u001b[0m\u001b[1;32m    700\u001b[0m                 \u001b[0mconn\u001b[0m\u001b[0;34m,\u001b[0m\u001b[0;34m\u001b[0m\u001b[0;34m\u001b[0m\u001b[0m\n\u001b[1;32m    701\u001b[0m                 \u001b[0mmethod\u001b[0m\u001b[0;34m,\u001b[0m\u001b[0;34m\u001b[0m\u001b[0;34m\u001b[0m\u001b[0m\n",
      "\u001b[0;32m~/opt/anaconda3/lib/python3.8/site-packages/urllib3/connectionpool.py\u001b[0m in \u001b[0;36m_make_request\u001b[0;34m(self, conn, method, url, timeout, chunked, **httplib_request_kw)\u001b[0m\n\u001b[1;32m    380\u001b[0m         \u001b[0;31m# Trigger any extra validation we need to do.\u001b[0m\u001b[0;34m\u001b[0m\u001b[0;34m\u001b[0m\u001b[0;34m\u001b[0m\u001b[0m\n\u001b[1;32m    381\u001b[0m         \u001b[0;32mtry\u001b[0m\u001b[0;34m:\u001b[0m\u001b[0;34m\u001b[0m\u001b[0;34m\u001b[0m\u001b[0m\n\u001b[0;32m--> 382\u001b[0;31m             \u001b[0mself\u001b[0m\u001b[0;34m.\u001b[0m\u001b[0m_validate_conn\u001b[0m\u001b[0;34m(\u001b[0m\u001b[0mconn\u001b[0m\u001b[0;34m)\u001b[0m\u001b[0;34m\u001b[0m\u001b[0;34m\u001b[0m\u001b[0m\n\u001b[0m\u001b[1;32m    383\u001b[0m         \u001b[0;32mexcept\u001b[0m \u001b[0;34m(\u001b[0m\u001b[0mSocketTimeout\u001b[0m\u001b[0;34m,\u001b[0m \u001b[0mBaseSSLError\u001b[0m\u001b[0;34m)\u001b[0m \u001b[0;32mas\u001b[0m \u001b[0me\u001b[0m\u001b[0;34m:\u001b[0m\u001b[0;34m\u001b[0m\u001b[0;34m\u001b[0m\u001b[0m\n\u001b[1;32m    384\u001b[0m             \u001b[0;31m# Py2 raises this as a BaseSSLError, Py3 raises it as socket timeout.\u001b[0m\u001b[0;34m\u001b[0m\u001b[0;34m\u001b[0m\u001b[0;34m\u001b[0m\u001b[0m\n",
      "\u001b[0;32m~/opt/anaconda3/lib/python3.8/site-packages/urllib3/connectionpool.py\u001b[0m in \u001b[0;36m_validate_conn\u001b[0;34m(self, conn)\u001b[0m\n\u001b[1;32m   1008\u001b[0m         \u001b[0;31m# Force connect early to allow us to validate the connection.\u001b[0m\u001b[0;34m\u001b[0m\u001b[0;34m\u001b[0m\u001b[0;34m\u001b[0m\u001b[0m\n\u001b[1;32m   1009\u001b[0m         \u001b[0;32mif\u001b[0m \u001b[0;32mnot\u001b[0m \u001b[0mgetattr\u001b[0m\u001b[0;34m(\u001b[0m\u001b[0mconn\u001b[0m\u001b[0;34m,\u001b[0m \u001b[0;34m\"sock\"\u001b[0m\u001b[0;34m,\u001b[0m \u001b[0;32mNone\u001b[0m\u001b[0;34m)\u001b[0m\u001b[0;34m:\u001b[0m  \u001b[0;31m# AppEngine might not have  `.sock`\u001b[0m\u001b[0;34m\u001b[0m\u001b[0;34m\u001b[0m\u001b[0m\n\u001b[0;32m-> 1010\u001b[0;31m             \u001b[0mconn\u001b[0m\u001b[0;34m.\u001b[0m\u001b[0mconnect\u001b[0m\u001b[0;34m(\u001b[0m\u001b[0;34m)\u001b[0m\u001b[0;34m\u001b[0m\u001b[0;34m\u001b[0m\u001b[0m\n\u001b[0m\u001b[1;32m   1011\u001b[0m \u001b[0;34m\u001b[0m\u001b[0m\n\u001b[1;32m   1012\u001b[0m         \u001b[0;32mif\u001b[0m \u001b[0;32mnot\u001b[0m \u001b[0mconn\u001b[0m\u001b[0;34m.\u001b[0m\u001b[0mis_verified\u001b[0m\u001b[0;34m:\u001b[0m\u001b[0;34m\u001b[0m\u001b[0;34m\u001b[0m\u001b[0m\n",
      "\u001b[0;32m~/opt/anaconda3/lib/python3.8/site-packages/urllib3/connection.py\u001b[0m in \u001b[0;36mconnect\u001b[0;34m(self)\u001b[0m\n\u001b[1;32m    409\u001b[0m             \u001b[0mcontext\u001b[0m\u001b[0;34m.\u001b[0m\u001b[0mload_default_certs\u001b[0m\u001b[0;34m(\u001b[0m\u001b[0;34m)\u001b[0m\u001b[0;34m\u001b[0m\u001b[0;34m\u001b[0m\u001b[0m\n\u001b[1;32m    410\u001b[0m \u001b[0;34m\u001b[0m\u001b[0m\n\u001b[0;32m--> 411\u001b[0;31m         self.sock = ssl_wrap_socket(\n\u001b[0m\u001b[1;32m    412\u001b[0m             \u001b[0msock\u001b[0m\u001b[0;34m=\u001b[0m\u001b[0mconn\u001b[0m\u001b[0;34m,\u001b[0m\u001b[0;34m\u001b[0m\u001b[0;34m\u001b[0m\u001b[0m\n\u001b[1;32m    413\u001b[0m             \u001b[0mkeyfile\u001b[0m\u001b[0;34m=\u001b[0m\u001b[0mself\u001b[0m\u001b[0;34m.\u001b[0m\u001b[0mkey_file\u001b[0m\u001b[0;34m,\u001b[0m\u001b[0;34m\u001b[0m\u001b[0;34m\u001b[0m\u001b[0m\n",
      "\u001b[0;32m~/opt/anaconda3/lib/python3.8/site-packages/urllib3/util/ssl_.py\u001b[0m in \u001b[0;36mssl_wrap_socket\u001b[0;34m(sock, keyfile, certfile, cert_reqs, ca_certs, server_hostname, ssl_version, ciphers, ssl_context, ca_cert_dir, key_password, ca_cert_data, tls_in_tls)\u001b[0m\n\u001b[1;32m    379\u001b[0m     \u001b[0;32mif\u001b[0m \u001b[0mca_certs\u001b[0m \u001b[0;32mor\u001b[0m \u001b[0mca_cert_dir\u001b[0m \u001b[0;32mor\u001b[0m \u001b[0mca_cert_data\u001b[0m\u001b[0;34m:\u001b[0m\u001b[0;34m\u001b[0m\u001b[0;34m\u001b[0m\u001b[0m\n\u001b[1;32m    380\u001b[0m         \u001b[0;32mtry\u001b[0m\u001b[0;34m:\u001b[0m\u001b[0;34m\u001b[0m\u001b[0;34m\u001b[0m\u001b[0m\n\u001b[0;32m--> 381\u001b[0;31m             \u001b[0mcontext\u001b[0m\u001b[0;34m.\u001b[0m\u001b[0mload_verify_locations\u001b[0m\u001b[0;34m(\u001b[0m\u001b[0mca_certs\u001b[0m\u001b[0;34m,\u001b[0m \u001b[0mca_cert_dir\u001b[0m\u001b[0;34m,\u001b[0m \u001b[0mca_cert_data\u001b[0m\u001b[0;34m)\u001b[0m\u001b[0;34m\u001b[0m\u001b[0;34m\u001b[0m\u001b[0m\n\u001b[0m\u001b[1;32m    382\u001b[0m         \u001b[0;32mexcept\u001b[0m \u001b[0;34m(\u001b[0m\u001b[0mIOError\u001b[0m\u001b[0;34m,\u001b[0m \u001b[0mOSError\u001b[0m\u001b[0;34m)\u001b[0m \u001b[0;32mas\u001b[0m \u001b[0me\u001b[0m\u001b[0;34m:\u001b[0m\u001b[0;34m\u001b[0m\u001b[0;34m\u001b[0m\u001b[0m\n\u001b[1;32m    383\u001b[0m             \u001b[0;32mraise\u001b[0m \u001b[0mSSLError\u001b[0m\u001b[0;34m(\u001b[0m\u001b[0me\u001b[0m\u001b[0;34m)\u001b[0m\u001b[0;34m\u001b[0m\u001b[0;34m\u001b[0m\u001b[0m\n",
      "\u001b[0;31mKeyboardInterrupt\u001b[0m: "
     ]
    }
   ],
   "source": [
    "# make a dictionary with all the required information for the url. All you must do i give the row index as an argument\n",
    "def url_arguments_dic(id_:int,n=0):\n",
    "    row = n\n",
    "    url_dic = {'type':0,'size':0,'n_rooms':0,'id':0}\n",
    "    if best_options_df.iloc[row].type == 'Apartment':\n",
    "        url_dic['type'] = 'apartments'\n",
    "    elif best_options_df.iloc[row].type == 'Room':\n",
    "        url_dic['type'] = 'rooms'\n",
    "    url_dic['size'] = best_options_df.iloc[row]['size']\n",
    "    url_dic['n_rooms'] = int(best_options_df.iloc[row]['rooms'])\n",
    "    url_dic['id'] = id_ #4810057\n",
    "    url_dic['id_in_my_df'] = best_options_df.iloc[row]['id']\n",
    "    return url_dic\n",
    "\n",
    "\n",
    "# function that uses the info above to check whether the id is correct or not\n",
    "def checking_id(id_:int,n=0,comments=True):\n",
    "    # getting the info from the dic and giving it to the url\n",
    "    d = url_arguments_dic(n=n,id_=id_)\n",
    "    url = \"https://www.boligportal.dk/en/rental-{}/k%C3%B8benhavn/{}m2-{}-room-id-{}\".format(d['type'],d['size'],d['n_rooms'],d['id'])\n",
    "    response = requests.get(url)\n",
    "\n",
    "    # Create a BeautifulSoup object and specify the parser\n",
    "    soup = BeautifulSoup(response.text, \"html.parser\")\n",
    "    link = soup.find('link')['href']\n",
    "    if comments:\n",
    "        print('my url:',url)\n",
    "        print('websites url:',link)\n",
    "\n",
    "    if link.split('/')[-1] == url.split('/')[-1]:\n",
    "        if comments:\n",
    "            print('They are the same')\n",
    "        not_right_id = False\n",
    "    \n",
    "    else:\n",
    "        if comments:            \n",
    "            print('They are not the same')\n",
    "        not_right_id = True\n",
    "\n",
    "    return {'id_check':not_right_id,'url':url,'soup':soup,'id_in_my_df':d['id_in_my_df']}\n",
    "\n",
    "# this is how one uses the function\n",
    "# id_dic = checking_id(n=0,id_=4810057,comments=False)\n",
    "\n",
    "\n",
    "\n",
    "# now out the two functions together in this one to get the info from the page\n",
    "def apartments_extra_info_extraction(n=0,id_= 4810056,comments=False):\n",
    "     # the given id_ is the id that we are going to start with\n",
    "    not_right_id = True #this is what is determining whther we have found the right id or not\n",
    "    print('### Looking for ID ###\\n')\n",
    "    while not_right_id:        \n",
    "        if id_%10 == 0:\n",
    "            print('id:',id_)\n",
    "        id_dic = checking_id(n=n,id_=id_,comments=comments)\n",
    "        not_right_id = id_dic['id_check']\n",
    "        id_ += 1        \n",
    "    print('\\n### Id found ###')\n",
    "    soup = id_dic['soup']\n",
    "    sharable = soup.find_all('div',class_='css-h1x6rg')\n",
    "\n",
    "    info = {}\n",
    "    for i in sharable:\n",
    "        try:\n",
    "            info_type = i.find_all('span',class_='css-arxwps')[0].text\n",
    "            info_answ = i.find_all('span',class_='css-1h46kg2')[0].text\n",
    "            info[info_type] = info_answ\n",
    "        except: pass    \n",
    "    info['id_in_my_df'] = id_dic['id_in_my_df']\n",
    "    return info\n",
    "\n",
    "# to run all the functions above all you have to do is run this one. There is no need to touch anything else\n",
    "extra_info_dic = apartments_extra_info_extraction(n=0,id_ = 4904520,comments=False)\n",
    "print('Shareable:',extra_info_dic['Shareable'])\n",
    "print('Furnished:',extra_info_dic['Furnished'])"
   ]
  },
  {
   "cell_type": "code",
   "execution_count": null,
   "metadata": {},
   "outputs": [],
   "source": []
  }
 ],
 "metadata": {
  "kernelspec": {
   "display_name": "base",
   "language": "python",
   "name": "python3"
  },
  "language_info": {
   "codemirror_mode": {
    "name": "ipython",
    "version": 3
   },
   "file_extension": ".py",
   "mimetype": "text/x-python",
   "name": "python",
   "nbconvert_exporter": "python",
   "pygments_lexer": "ipython3",
   "version": "3.8.8"
  },
  "orig_nbformat": 4
 },
 "nbformat": 4,
 "nbformat_minor": 2
}
